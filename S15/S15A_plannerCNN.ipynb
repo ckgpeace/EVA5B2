{
  "nbformat": 4,
  "nbformat_minor": 0,
  "metadata": {
    "accelerator": "GPU",
    "colab": {
      "name": "Assignment15A_plannerCNN.ipynb",
      "provenance": [],
      "collapsed_sections": [],
      "include_colab_link": true
    },
    "kernelspec": {
      "display_name": "Python 3",
      "name": "python3"
    },
    "language_info": {
      "name": "python"
    }
  },
  "cells": [
    {
      "cell_type": "markdown",
      "metadata": {
        "id": "view-in-github",
        "colab_type": "text"
      },
      "source": [
        "<a href=\"https://colab.research.google.com/github/ckgpeace/EVA5B2/blob/main/S15/S15A_plannerCNN.ipynb\" target=\"_parent\"><img src=\"https://colab.research.google.com/assets/colab-badge.svg\" alt=\"Open In Colab\"/></a>"
      ]
    },
    {
      "cell_type": "code",
      "metadata": {
        "colab": {
          "base_uri": "https://localhost:8080/"
        },
        "id": "BuqT19CdJXS-",
        "outputId": "aa9c1878-112f-4b5f-a0d4-ebeb2858a560"
      },
      "source": [
        "from google.colab import drive\n",
        "drive.mount('/content/drive')"
      ],
      "execution_count": null,
      "outputs": [
        {
          "output_type": "stream",
          "text": [
            "Mounted at /content/drive\n"
          ],
          "name": "stdout"
        }
      ]
    },
    {
      "cell_type": "code",
      "metadata": {
        "colab": {
          "base_uri": "https://localhost:8080/"
        },
        "id": "LZzRyQ8NJY-L",
        "outputId": "f2a1dc00-9c16-48bc-804a-9eaa08826b8d"
      },
      "source": [
        "cd /content/drive/MyDrive/EVA5/Assignment15A"
      ],
      "execution_count": null,
      "outputs": [
        {
          "output_type": "stream",
          "text": [
            "/content/drive/MyDrive/EVA5/Assignment15A\n"
          ],
          "name": "stdout"
        }
      ]
    },
    {
      "cell_type": "code",
      "metadata": {
        "colab": {
          "base_uri": "https://localhost:8080/",
          "height": 35
        },
        "id": "Q-q76dJNJjXW",
        "outputId": "5585944d-80f5-4f5d-b5b8-ac5b75d476db"
      },
      "source": [
        "pwd"
      ],
      "execution_count": null,
      "outputs": [
        {
          "output_type": "execute_result",
          "data": {
            "application/vnd.google.colaboratory.intrinsic+json": {
              "type": "string"
            },
            "text/plain": [
              "'/content/drive/My Drive/EVA5/Assignment15A'"
            ]
          },
          "metadata": {
            "tags": []
          },
          "execution_count": 8
        }
      ]
    },
    {
      "cell_type": "code",
      "metadata": {
        "colab": {
          "base_uri": "https://localhost:8080/"
        },
        "id": "xrkwM9gj53e5",
        "outputId": "791d5538-05e9-414e-8041-125050d8928e"
      },
      "source": [
        "#8. Clone git hub\n",
        "# !git clone 'https://github.com/NVlabs/planercnn.git'"
      ],
      "execution_count": null,
      "outputs": [
        {
          "output_type": "stream",
          "text": [
            "Cloning into 'planercnn'...\n",
            "remote: Enumerating objects: 150, done.\u001b[K\n",
            "remote: Total 150 (delta 0), reused 0 (delta 0), pack-reused 150\u001b[K\n",
            "Receiving objects: 100% (150/150), 1.33 MiB | 3.36 MiB/s, done.\n",
            "Resolving deltas: 100% (51/51), done.\n"
          ],
          "name": "stdout"
        }
      ]
    },
    {
      "cell_type": "code",
      "metadata": {
        "colab": {
          "base_uri": "https://localhost:8080/"
        },
        "id": "l424Z9_aAlJx",
        "outputId": "d4638f66-a7e3-4f00-d246-96791a08d993"
      },
      "source": [
        "ls"
      ],
      "execution_count": null,
      "outputs": [
        {
          "output_type": "stream",
          "text": [
            "\u001b[0m\u001b[01;34mdata\u001b[0m/  \u001b[01;34mMiDaS\u001b[0m/  \u001b[01;34mplanercnn\u001b[0m/\n"
          ],
          "name": "stdout"
        }
      ]
    },
    {
      "cell_type": "code",
      "metadata": {
        "colab": {
          "base_uri": "https://localhost:8080/"
        },
        "id": "7oi44W_vAoSh",
        "outputId": "251674a8-63c1-45cf-d489-0108ca4689f9"
      },
      "source": [
        "cd planercnn/"
      ],
      "execution_count": null,
      "outputs": [
        {
          "output_type": "stream",
          "text": [
            "/content/drive/MyDrive/EVA5/Assignment15A/planercnn\n"
          ],
          "name": "stdout"
        }
      ]
    },
    {
      "cell_type": "code",
      "metadata": {
        "id": "i3MBYKcbJkbk"
      },
      "source": [
        "# cuda==8.0.61-1\n",
        "# numpy==1.16.3\n",
        "# torch==0.4.1.post2\n",
        "# gcc-5 (update links also)\n",
        "# imgaug==0.2.5\n",
        "# folium==0.2.1\n",
        "# cffi==1.11.5\n",
        "# opencv-python==3.4.4.19\n",
        "# tqdm==4.59.0\n",
        "# scikit-image==0.14.2\n",
        "\n",
        "\n",
        "\n",
        "# ---Zoheb\n",
        "# Install cuda 8\n",
        "# Install numpy 1.16 \n",
        "# Install torch 0.4.1.post2\n",
        "# Install Gcc-5\n",
        "# Then fix missing if any - !sudo apt-get update --fix-missing\n",
        "\n",
        "# Clone the planercnn\n",
        "# Build the nms\n",
        "# Build roi align\n",
        "# Might have to change dir here\n",
        "# Download checkpoint - Move it to correct folder\n",
        "# Download customdata file - Move it to correct folder\n",
        "\n",
        "# Then run evaluate.py with correct args"
      ],
      "execution_count": null,
      "outputs": []
    },
    {
      "cell_type": "code",
      "metadata": {
        "id": "yp28ULOfvKLB"
      },
      "source": [
        "## 1.0 Install cuda==8.0.61-1\n",
        "# !wget https://developer.nvidia.com/compute/cuda/8.0/Prod2/local_installers/cuda-repo-ubuntu1604-8-0-local-ga2_8.0.61-1_amd64-deb\n"
      ],
      "execution_count": null,
      "outputs": []
    },
    {
      "cell_type": "code",
      "metadata": {
        "colab": {
          "base_uri": "https://localhost:8080/",
          "height": 336
        },
        "id": "HOq888mJFWs1",
        "outputId": "754bc302-5159-4d80-d33c-61faeb8771e9"
      },
      "source": [
        "#3. Install numpy\n",
        "!pip install numpy==1.16.3"
      ],
      "execution_count": null,
      "outputs": [
        {
          "output_type": "stream",
          "text": [
            "Collecting numpy==1.16.3\n",
            "\u001b[?25l  Downloading https://files.pythonhosted.org/packages/bb/76/24e9f32c78e6f6fb26cf2596b428f393bf015b63459468119f282f70a7fd/numpy-1.16.3-cp37-cp37m-manylinux1_x86_64.whl (17.3MB)\n",
            "\u001b[K     |████████████████████████████████| 17.3MB 193kB/s \n",
            "\u001b[31mERROR: tensorflow 2.4.1 has requirement numpy~=1.19.2, but you'll have numpy 1.16.3 which is incompatible.\u001b[0m\n",
            "\u001b[31mERROR: pyarrow 3.0.0 has requirement numpy>=1.16.6, but you'll have numpy 1.16.3 which is incompatible.\u001b[0m\n",
            "\u001b[31mERROR: datascience 0.10.6 has requirement folium==0.2.1, but you'll have folium 0.8.3 which is incompatible.\u001b[0m\n",
            "\u001b[31mERROR: astropy 4.2 has requirement numpy>=1.17, but you'll have numpy 1.16.3 which is incompatible.\u001b[0m\n",
            "\u001b[31mERROR: albumentations 0.1.12 has requirement imgaug<0.2.7,>=0.2.5, but you'll have imgaug 0.2.9 which is incompatible.\u001b[0m\n",
            "\u001b[?25hInstalling collected packages: numpy\n",
            "  Found existing installation: numpy 1.19.5\n",
            "    Uninstalling numpy-1.19.5:\n",
            "      Successfully uninstalled numpy-1.19.5\n",
            "Successfully installed numpy-1.16.3\n"
          ],
          "name": "stdout"
        },
        {
          "output_type": "display_data",
          "data": {
            "application/vnd.colab-display-data+json": {
              "pip_warning": {
                "packages": [
                  "numpy"
                ]
              }
            }
          },
          "metadata": {
            "tags": []
          }
        }
      ]
    },
    {
      "cell_type": "code",
      "metadata": {
        "colab": {
          "base_uri": "https://localhost:8080/"
        },
        "id": "w8eJcsf4TE3F",
        "outputId": "bb606bef-81dc-4295-d502-7169fb451005"
      },
      "source": [
        "cd '/content/drive/MyDrive/EVA5/Assignment15A'"
      ],
      "execution_count": null,
      "outputs": [
        {
          "output_type": "stream",
          "text": [
            "/content/drive/MyDrive/EVA5/Assignment15A\n"
          ],
          "name": "stdout"
        }
      ]
    },
    {
      "cell_type": "code",
      "metadata": {
        "colab": {
          "base_uri": "https://localhost:8080/"
        },
        "id": "xOME30XSXOlu",
        "outputId": "371545be-3b79-49b3-9aa5-3851d7df20c2"
      },
      "source": [
        "ls"
      ],
      "execution_count": null,
      "outputs": [
        {
          "output_type": "stream",
          "text": [
            "\u001b[0m\u001b[01;34mdata\u001b[0m/  \u001b[01;34mMiDaS\u001b[0m/  \u001b[01;34mplanercnn\u001b[0m/\n"
          ],
          "name": "stdout"
        }
      ]
    },
    {
      "cell_type": "code",
      "metadata": {
        "colab": {
          "base_uri": "https://localhost:8080/"
        },
        "id": "acXW9pdfXTsx",
        "outputId": "6848a818-efb7-4619-9ae4-2723b761d768"
      },
      "source": [
        "cd planercnn/"
      ],
      "execution_count": null,
      "outputs": [
        {
          "output_type": "stream",
          "text": [
            "/content/drive/My Drive/EVA5/Assignment15A/planercnn\n"
          ],
          "name": "stdout"
        }
      ]
    },
    {
      "cell_type": "code",
      "metadata": {
        "colab": {
          "base_uri": "https://localhost:8080/"
        },
        "id": "dzL5dI7-MOk5",
        "outputId": "4590a68e-18c7-4b66-bd4f-ccc2f16c67e6"
      },
      "source": [
        "## 1.1 Install cuda==8.0.61-1\n",
        "!dpkg -i cuda-repo-ubuntu1604-8-0-local-ga2_8.0.61-1_amd64-deb\n",
        "!apt-key add /var/cuda-repo-8-0-local-ga2/7fa2af80.pub\n",
        "!apt-get install cuda=8.0.61-1"
      ],
      "execution_count": null,
      "outputs": [
        {
          "output_type": "stream",
          "text": [
            "Selecting previously unselected package cuda-repo-ubuntu1604-8-0-local-ga2.\n",
            "(Reading database ... 160980 files and directories currently installed.)\n",
            "Preparing to unpack cuda-repo-ubuntu1604-8-0-local-ga2_8.0.61-1_amd64-deb ...\n",
            "Unpacking cuda-repo-ubuntu1604-8-0-local-ga2 (8.0.61-1) ...\n",
            "Setting up cuda-repo-ubuntu1604-8-0-local-ga2 (8.0.61-1) ...\n",
            "Warning: The postinst maintainerscript of the package cuda-repo-ubuntu1604-8-0-local-ga2\n",
            "Warning: seems to use apt-key (provided by apt) without depending on gnupg or gnupg2.\n",
            "Warning: This will BREAK in the future and should be fixed by the package maintainer(s).\n",
            "Note: Check first if apt-key functionality is needed at all - it probably isn't!\n",
            "Warning: apt-key should not be used in scripts (called from postinst maintainerscript of the package cuda-repo-ubuntu1604-8-0-local-ga2)\n",
            "OK\n",
            "OK\n"
          ],
          "name": "stdout"
        }
      ]
    },
    {
      "cell_type": "code",
      "metadata": {
        "colab": {
          "base_uri": "https://localhost:8080/"
        },
        "id": "hnbn9xwOXsmx",
        "outputId": "54380d4f-0fda-4beb-a8b0-9ccfd73ec88b"
      },
      "source": [
        "# Update broken\n",
        "!apt-get update -qq\n",
        "!apt --fix-broken install"
      ],
      "execution_count": null,
      "outputs": [
        {
          "output_type": "stream",
          "text": [
            "Reading package lists... Done\n",
            "Building dependency tree       \n",
            "Reading state information... Done\n",
            "0 upgraded, 0 newly installed, 0 to remove and 50 not upgraded.\n"
          ],
          "name": "stdout"
        }
      ]
    },
    {
      "cell_type": "code",
      "metadata": {
        "colab": {
          "base_uri": "https://localhost:8080/"
        },
        "id": "pRPVay31XQdB",
        "outputId": "8433390d-f00f-4d20-d415-46d1c1913d45"
      },
      "source": [
        "#5. Install GCC\n",
        "!apt install cuda gcc-5 g++-5 -y -qq;"
      ],
      "execution_count": null,
      "outputs": [
        {
          "output_type": "stream",
          "text": [
            "The following additional packages will be installed:\n",
            "  cpp-5 cuda-11-2 cuda-command-line-tools-11-2 cuda-compiler-11-2\n",
            "  cuda-cudart-11-2 cuda-cudart-dev-11-2 cuda-cuobjdump-11-2 cuda-cupti-11-2\n",
            "  cuda-cupti-dev-11-2 cuda-cuxxfilt-11-2 cuda-demo-suite-11-2\n",
            "  cuda-documentation-11-2 cuda-driver-dev-11-2 cuda-gdb-11-2\n",
            "  cuda-libraries-11-2 cuda-libraries-dev-11-2 cuda-memcheck-11-2\n",
            "  cuda-nsight-11-2 cuda-nsight-compute-11-2 cuda-nsight-systems-11-2\n",
            "  cuda-nvcc-11-2 cuda-nvdisasm-11-2 cuda-nvml-dev-11-2 cuda-nvprof-11-2\n",
            "  cuda-nvprune-11-2 cuda-nvrtc-11-2 cuda-nvrtc-dev-11-2 cuda-nvtx-11-2\n",
            "  cuda-nvvp-11-2 cuda-runtime-11-2 cuda-samples-11-2 cuda-sanitizer-11-2\n",
            "  cuda-toolkit-11-2 cuda-tools-11-2 cuda-visual-tools-11-2 gcc-5-base libasan2\n",
            "  libcublas-11-2 libcublas-dev-11-2 libcufft-11-2 libcufft-dev-11-2\n",
            "  libcurand-11-2 libcurand-dev-11-2 libcusolver-11-2 libcusolver-dev-11-2\n",
            "  libcusparse-11-2 libcusparse-dev-11-2 libgcc-5-dev libisl15 libmpx0\n",
            "  libnpp-11-2 libnpp-dev-11-2 libnvjpeg-11-2 libnvjpeg-dev-11-2\n",
            "  libstdc++-5-dev\n",
            "Suggested packages:\n",
            "  gcc-5-locales g++-5-multilib gcc-5-doc libstdc++6-5-dbg gcc-5-multilib\n",
            "  libgcc1-dbg libgomp1-dbg libitm1-dbg libatomic1-dbg libasan2-dbg\n",
            "  liblsan0-dbg libtsan0-dbg libubsan0-dbg libcilkrts5-dbg libmpx0-dbg\n",
            "  libquadmath0-dbg libstdc++-5-doc\n",
            "The following NEW packages will be installed:\n",
            "  cpp-5 cuda cuda-11-2 cuda-command-line-tools-11-2 cuda-compiler-11-2\n",
            "  cuda-cudart-11-2 cuda-cudart-dev-11-2 cuda-cuobjdump-11-2 cuda-cupti-11-2\n",
            "  cuda-cupti-dev-11-2 cuda-cuxxfilt-11-2 cuda-demo-suite-11-2\n",
            "  cuda-documentation-11-2 cuda-driver-dev-11-2 cuda-gdb-11-2\n",
            "  cuda-libraries-11-2 cuda-libraries-dev-11-2 cuda-memcheck-11-2\n",
            "  cuda-nsight-11-2 cuda-nsight-compute-11-2 cuda-nsight-systems-11-2\n",
            "  cuda-nvcc-11-2 cuda-nvdisasm-11-2 cuda-nvml-dev-11-2 cuda-nvprof-11-2\n",
            "  cuda-nvprune-11-2 cuda-nvrtc-11-2 cuda-nvrtc-dev-11-2 cuda-nvtx-11-2\n",
            "  cuda-nvvp-11-2 cuda-runtime-11-2 cuda-samples-11-2 cuda-sanitizer-11-2\n",
            "  cuda-toolkit-11-2 cuda-tools-11-2 cuda-visual-tools-11-2 g++-5 gcc-5\n",
            "  gcc-5-base libasan2 libcublas-11-2 libcublas-dev-11-2 libcufft-11-2\n",
            "  libcufft-dev-11-2 libcurand-11-2 libcurand-dev-11-2 libcusolver-11-2\n",
            "  libcusolver-dev-11-2 libcusparse-11-2 libcusparse-dev-11-2 libgcc-5-dev\n",
            "  libisl15 libmpx0 libnpp-11-2 libnpp-dev-11-2 libnvjpeg-11-2\n",
            "  libnvjpeg-dev-11-2 libstdc++-5-dev\n",
            "0 upgraded, 58 newly installed, 0 to remove and 50 not upgraded.\n",
            "Need to get 1,633 MB of archives.\n",
            "After this operation, 4,151 MB of additional disk space will be used.\n",
            "Extracting templates from packages: 100%\n",
            "Selecting previously unselected package gcc-5-base:amd64.\n",
            "(Reading database ... 161074 files and directories currently installed.)\n",
            "Preparing to unpack .../00-gcc-5-base_5.5.0-12ubuntu1_amd64.deb ...\n",
            "Unpacking gcc-5-base:amd64 (5.5.0-12ubuntu1) ...\n",
            "Selecting previously unselected package libisl15:amd64.\n",
            "Preparing to unpack .../01-libisl15_0.18-4_amd64.deb ...\n",
            "Unpacking libisl15:amd64 (0.18-4) ...\n",
            "Selecting previously unselected package cpp-5.\n",
            "Preparing to unpack .../02-cpp-5_5.5.0-12ubuntu1_amd64.deb ...\n",
            "Unpacking cpp-5 (5.5.0-12ubuntu1) ...\n",
            "Selecting previously unselected package cuda-cudart-11-2.\n",
            "Preparing to unpack .../03-cuda-cudart-11-2_11.2.152-1_amd64.deb ...\n",
            "Unpacking cuda-cudart-11-2 (11.2.152-1) ...\n",
            "Selecting previously unselected package cuda-nvrtc-11-2.\n",
            "Preparing to unpack .../04-cuda-nvrtc-11-2_11.2.152-1_amd64.deb ...\n",
            "Unpacking cuda-nvrtc-11-2 (11.2.152-1) ...\n",
            "Selecting previously unselected package libcublas-11-2.\n",
            "Preparing to unpack .../05-libcublas-11-2_11.4.1.1043-1_amd64.deb ...\n",
            "Unpacking libcublas-11-2 (11.4.1.1043-1) ...\n",
            "Selecting previously unselected package libcufft-11-2.\n",
            "Preparing to unpack .../06-libcufft-11-2_10.4.1.152-1_amd64.deb ...\n",
            "Unpacking libcufft-11-2 (10.4.1.152-1) ...\n",
            "Selecting previously unselected package libcurand-11-2.\n",
            "Preparing to unpack .../07-libcurand-11-2_10.2.3.152-1_amd64.deb ...\n",
            "Unpacking libcurand-11-2 (10.2.3.152-1) ...\n",
            "Selecting previously unselected package libcusolver-11-2.\n",
            "Preparing to unpack .../08-libcusolver-11-2_11.1.0.152-1_amd64.deb ...\n",
            "Unpacking libcusolver-11-2 (11.1.0.152-1) ...\n",
            "Selecting previously unselected package libcusparse-11-2.\n",
            "Preparing to unpack .../09-libcusparse-11-2_11.4.1.1152-1_amd64.deb ...\n",
            "Unpacking libcusparse-11-2 (11.4.1.1152-1) ...\n",
            "Selecting previously unselected package libnpp-11-2.\n",
            "Preparing to unpack .../10-libnpp-11-2_11.3.2.152-1_amd64.deb ...\n",
            "Unpacking libnpp-11-2 (11.3.2.152-1) ...\n",
            "Selecting previously unselected package libnvjpeg-11-2.\n",
            "Preparing to unpack .../11-libnvjpeg-11-2_11.4.0.152-1_amd64.deb ...\n",
            "Unpacking libnvjpeg-11-2 (11.4.0.152-1) ...\n",
            "Selecting previously unselected package cuda-libraries-11-2.\n",
            "Preparing to unpack .../12-cuda-libraries-11-2_11.2.2-1_amd64.deb ...\n",
            "Unpacking cuda-libraries-11-2 (11.2.2-1) ...\n",
            "Selecting previously unselected package cuda-runtime-11-2.\n",
            "Preparing to unpack .../13-cuda-runtime-11-2_11.2.2-1_amd64.deb ...\n",
            "Unpacking cuda-runtime-11-2 (11.2.2-1) ...\n",
            "Selecting previously unselected package cuda-cuobjdump-11-2.\n",
            "Preparing to unpack .../14-cuda-cuobjdump-11-2_11.2.152-1_amd64.deb ...\n",
            "Unpacking cuda-cuobjdump-11-2 (11.2.152-1) ...\n",
            "Selecting previously unselected package cuda-cuxxfilt-11-2.\n",
            "Preparing to unpack .../15-cuda-cuxxfilt-11-2_11.2.152-1_amd64.deb ...\n",
            "Unpacking cuda-cuxxfilt-11-2 (11.2.152-1) ...\n",
            "Selecting previously unselected package cuda-driver-dev-11-2.\n",
            "Preparing to unpack .../16-cuda-driver-dev-11-2_11.2.152-1_amd64.deb ...\n",
            "Unpacking cuda-driver-dev-11-2 (11.2.152-1) ...\n",
            "Selecting previously unselected package cuda-cudart-dev-11-2.\n",
            "Preparing to unpack .../17-cuda-cudart-dev-11-2_11.2.152-1_amd64.deb ...\n",
            "Unpacking cuda-cudart-dev-11-2 (11.2.152-1) ...\n",
            "Selecting previously unselected package cuda-nvcc-11-2.\n",
            "Preparing to unpack .../18-cuda-nvcc-11-2_11.2.152-1_amd64.deb ...\n",
            "Unpacking cuda-nvcc-11-2 (11.2.152-1) ...\n",
            "Selecting previously unselected package cuda-nvprune-11-2.\n",
            "Preparing to unpack .../19-cuda-nvprune-11-2_11.2.152-1_amd64.deb ...\n",
            "Unpacking cuda-nvprune-11-2 (11.2.152-1) ...\n",
            "Selecting previously unselected package cuda-compiler-11-2.\n",
            "Preparing to unpack .../20-cuda-compiler-11-2_11.2.2-1_amd64.deb ...\n",
            "Unpacking cuda-compiler-11-2 (11.2.2-1) ...\n",
            "Selecting previously unselected package cuda-nvrtc-dev-11-2.\n",
            "Preparing to unpack .../21-cuda-nvrtc-dev-11-2_11.2.152-1_amd64.deb ...\n",
            "Unpacking cuda-nvrtc-dev-11-2 (11.2.152-1) ...\n",
            "Selecting previously unselected package libcublas-dev-11-2.\n",
            "Preparing to unpack .../22-libcublas-dev-11-2_11.4.1.1043-1_amd64.deb ...\n",
            "Unpacking libcublas-dev-11-2 (11.4.1.1043-1) ...\n",
            "Selecting previously unselected package libcufft-dev-11-2.\n",
            "Preparing to unpack .../23-libcufft-dev-11-2_10.4.1.152-1_amd64.deb ...\n",
            "Unpacking libcufft-dev-11-2 (10.4.1.152-1) ...\n",
            "Selecting previously unselected package libcurand-dev-11-2.\n",
            "Preparing to unpack .../24-libcurand-dev-11-2_10.2.3.152-1_amd64.deb ...\n",
            "Unpacking libcurand-dev-11-2 (10.2.3.152-1) ...\n",
            "Selecting previously unselected package libcusolver-dev-11-2.\n",
            "Preparing to unpack .../25-libcusolver-dev-11-2_11.1.0.152-1_amd64.deb ...\n",
            "Unpacking libcusolver-dev-11-2 (11.1.0.152-1) ...\n",
            "Selecting previously unselected package libcusparse-dev-11-2.\n",
            "Preparing to unpack .../26-libcusparse-dev-11-2_11.4.1.1152-1_amd64.deb ...\n",
            "Unpacking libcusparse-dev-11-2 (11.4.1.1152-1) ...\n",
            "Selecting previously unselected package libnpp-dev-11-2.\n",
            "Preparing to unpack .../27-libnpp-dev-11-2_11.3.2.152-1_amd64.deb ...\n",
            "Unpacking libnpp-dev-11-2 (11.3.2.152-1) ...\n",
            "Selecting previously unselected package libnvjpeg-dev-11-2.\n",
            "Preparing to unpack .../28-libnvjpeg-dev-11-2_11.4.0.152-1_amd64.deb ...\n",
            "Unpacking libnvjpeg-dev-11-2 (11.4.0.152-1) ...\n",
            "Selecting previously unselected package cuda-libraries-dev-11-2.\n",
            "Preparing to unpack .../29-cuda-libraries-dev-11-2_11.2.2-1_amd64.deb ...\n",
            "Unpacking cuda-libraries-dev-11-2 (11.2.2-1) ...\n",
            "Selecting previously unselected package cuda-cupti-11-2.\n",
            "Preparing to unpack .../30-cuda-cupti-11-2_11.2.152-1_amd64.deb ...\n",
            "Unpacking cuda-cupti-11-2 (11.2.152-1) ...\n",
            "Selecting previously unselected package cuda-cupti-dev-11-2.\n",
            "Preparing to unpack .../31-cuda-cupti-dev-11-2_11.2.152-1_amd64.deb ...\n",
            "Unpacking cuda-cupti-dev-11-2 (11.2.152-1) ...\n",
            "Selecting previously unselected package cuda-nvdisasm-11-2.\n",
            "Preparing to unpack .../32-cuda-nvdisasm-11-2_11.2.152-1_amd64.deb ...\n",
            "Unpacking cuda-nvdisasm-11-2 (11.2.152-1) ...\n",
            "Selecting previously unselected package cuda-gdb-11-2.\n",
            "Preparing to unpack .../33-cuda-gdb-11-2_11.2.152-1_amd64.deb ...\n",
            "Unpacking cuda-gdb-11-2 (11.2.152-1) ...\n",
            "Selecting previously unselected package cuda-memcheck-11-2.\n",
            "Preparing to unpack .../34-cuda-memcheck-11-2_11.2.152-1_amd64.deb ...\n",
            "Unpacking cuda-memcheck-11-2 (11.2.152-1) ...\n",
            "Selecting previously unselected package cuda-nvprof-11-2.\n",
            "Preparing to unpack .../35-cuda-nvprof-11-2_11.2.152-1_amd64.deb ...\n",
            "Unpacking cuda-nvprof-11-2 (11.2.152-1) ...\n",
            "Selecting previously unselected package cuda-nvtx-11-2.\n",
            "Preparing to unpack .../36-cuda-nvtx-11-2_11.2.152-1_amd64.deb ...\n",
            "Unpacking cuda-nvtx-11-2 (11.2.152-1) ...\n",
            "Selecting previously unselected package cuda-sanitizer-11-2.\n",
            "Preparing to unpack .../37-cuda-sanitizer-11-2_11.2.152-1_amd64.deb ...\n",
            "Unpacking cuda-sanitizer-11-2 (11.2.152-1) ...\n",
            "Selecting previously unselected package cuda-command-line-tools-11-2.\n",
            "Preparing to unpack .../38-cuda-command-line-tools-11-2_11.2.2-1_amd64.deb ...\n",
            "Unpacking cuda-command-line-tools-11-2 (11.2.2-1) ...\n",
            "Selecting previously unselected package cuda-nsight-compute-11-2.\n",
            "Preparing to unpack .../39-cuda-nsight-compute-11-2_11.2.2-1_amd64.deb ...\n",
            "Unpacking cuda-nsight-compute-11-2 (11.2.2-1) ...\n",
            "Selecting previously unselected package cuda-nsight-systems-11-2.\n",
            "Preparing to unpack .../40-cuda-nsight-systems-11-2_11.2.2-1_amd64.deb ...\n",
            "Unpacking cuda-nsight-systems-11-2 (11.2.2-1) ...\n",
            "Selecting previously unselected package cuda-nsight-11-2.\n",
            "Preparing to unpack .../41-cuda-nsight-11-2_11.2.152-1_amd64.deb ...\n",
            "Unpacking cuda-nsight-11-2 (11.2.152-1) ...\n",
            "Selecting previously unselected package cuda-nvml-dev-11-2.\n",
            "Preparing to unpack .../42-cuda-nvml-dev-11-2_11.2.152-1_amd64.deb ...\n",
            "Unpacking cuda-nvml-dev-11-2 (11.2.152-1) ...\n",
            "Selecting previously unselected package cuda-nvvp-11-2.\n",
            "Preparing to unpack .../43-cuda-nvvp-11-2_11.2.152-1_amd64.deb ...\n",
            "Unpacking cuda-nvvp-11-2 (11.2.152-1) ...\n",
            "Selecting previously unselected package cuda-visual-tools-11-2.\n",
            "Preparing to unpack .../44-cuda-visual-tools-11-2_11.2.2-1_amd64.deb ...\n",
            "Unpacking cuda-visual-tools-11-2 (11.2.2-1) ...\n",
            "Selecting previously unselected package cuda-tools-11-2.\n",
            "Preparing to unpack .../45-cuda-tools-11-2_11.2.2-1_amd64.deb ...\n",
            "Unpacking cuda-tools-11-2 (11.2.2-1) ...\n",
            "Selecting previously unselected package cuda-samples-11-2.\n",
            "Preparing to unpack .../46-cuda-samples-11-2_11.2.152-1_amd64.deb ...\n",
            "Unpacking cuda-samples-11-2 (11.2.152-1) ...\n",
            "Selecting previously unselected package cuda-documentation-11-2.\n",
            "Preparing to unpack .../47-cuda-documentation-11-2_11.2.154-1_amd64.deb ...\n",
            "Unpacking cuda-documentation-11-2 (11.2.154-1) ...\n",
            "Selecting previously unselected package cuda-toolkit-11-2.\n",
            "Preparing to unpack .../48-cuda-toolkit-11-2_11.2.2-1_amd64.deb ...\n",
            "Unpacking cuda-toolkit-11-2 (11.2.2-1) ...\n",
            "Selecting previously unselected package cuda-demo-suite-11-2.\n",
            "Preparing to unpack .../49-cuda-demo-suite-11-2_11.2.152-1_amd64.deb ...\n",
            "Unpacking cuda-demo-suite-11-2 (11.2.152-1) ...\n",
            "Selecting previously unselected package cuda-11-2.\n",
            "Preparing to unpack .../50-cuda-11-2_11.2.2-1_amd64.deb ...\n",
            "Unpacking cuda-11-2 (11.2.2-1) ...\n",
            "Selecting previously unselected package cuda.\n",
            "Preparing to unpack .../51-cuda_11.2.2-1_amd64.deb ...\n",
            "Unpacking cuda (11.2.2-1) ...\n",
            "Selecting previously unselected package libasan2:amd64.\n",
            "Preparing to unpack .../52-libasan2_5.5.0-12ubuntu1_amd64.deb ...\n",
            "Unpacking libasan2:amd64 (5.5.0-12ubuntu1) ...\n",
            "Selecting previously unselected package libmpx0:amd64.\n",
            "Preparing to unpack .../53-libmpx0_5.5.0-12ubuntu1_amd64.deb ...\n",
            "Unpacking libmpx0:amd64 (5.5.0-12ubuntu1) ...\n",
            "Selecting previously unselected package libgcc-5-dev:amd64.\n",
            "Preparing to unpack .../54-libgcc-5-dev_5.5.0-12ubuntu1_amd64.deb ...\n",
            "Unpacking libgcc-5-dev:amd64 (5.5.0-12ubuntu1) ...\n",
            "Selecting previously unselected package gcc-5.\n",
            "Preparing to unpack .../55-gcc-5_5.5.0-12ubuntu1_amd64.deb ...\n",
            "Unpacking gcc-5 (5.5.0-12ubuntu1) ...\n",
            "Selecting previously unselected package libstdc++-5-dev:amd64.\n",
            "Preparing to unpack .../56-libstdc++-5-dev_5.5.0-12ubuntu1_amd64.deb ...\n",
            "Unpacking libstdc++-5-dev:amd64 (5.5.0-12ubuntu1) ...\n",
            "Selecting previously unselected package g++-5.\n",
            "Preparing to unpack .../57-g++-5_5.5.0-12ubuntu1_amd64.deb ...\n",
            "Unpacking g++-5 (5.5.0-12ubuntu1) ...\n",
            "Setting up libcufft-11-2 (10.4.1.152-1) ...\n",
            "Setting up libcusparse-11-2 (11.4.1.1152-1) ...\n",
            "Setting up libnpp-11-2 (11.3.2.152-1) ...\n",
            "Setting up cuda-nvrtc-11-2 (11.2.152-1) ...\n",
            "Setting up libcurand-11-2 (10.2.3.152-1) ...\n",
            "Setting up cuda-nvvp-11-2 (11.2.152-1) ...\n",
            "Setting up cuda-nvtx-11-2 (11.2.152-1) ...\n",
            "Setting up cuda-nvml-dev-11-2 (11.2.152-1) ...\n",
            "Setting up libnvjpeg-11-2 (11.4.0.152-1) ...\n",
            "Setting up cuda-nsight-compute-11-2 (11.2.2-1) ...\n",
            "Setting up libcufft-dev-11-2 (10.4.1.152-1) ...\n",
            "Setting up libcusparse-dev-11-2 (11.4.1.1152-1) ...\n",
            "Setting up cuda-cuobjdump-11-2 (11.2.152-1) ...\n",
            "Setting up libcurand-dev-11-2 (10.2.3.152-1) ...\n",
            "Setting up libnpp-dev-11-2 (11.3.2.152-1) ...\n",
            "Setting up cuda-driver-dev-11-2 (11.2.152-1) ...\n",
            "Setting up cuda-cudart-11-2 (11.2.152-1) ...\n",
            "Setting up libisl15:amd64 (0.18-4) ...\n",
            "Setting up cuda-cuxxfilt-11-2 (11.2.152-1) ...\n",
            "Setting up libnvjpeg-dev-11-2 (11.4.0.152-1) ...\n",
            "Setting up cuda-memcheck-11-2 (11.2.152-1) ...\n",
            "Setting up cuda-cudart-dev-11-2 (11.2.152-1) ...\n",
            "Setting up cuda-nvprune-11-2 (11.2.152-1) ...\n",
            "Setting up cuda-nvrtc-dev-11-2 (11.2.152-1) ...\n",
            "Setting up cuda-nsight-11-2 (11.2.152-1) ...\n",
            "Setting up libcublas-11-2 (11.4.1.1043-1) ...\n",
            "Setting up cuda-sanitizer-11-2 (11.2.152-1) ...\n",
            "Setting up cuda-nvdisasm-11-2 (11.2.152-1) ...\n",
            "Setting up cuda-nsight-systems-11-2 (11.2.2-1) ...\n",
            "Setting up libcusolver-11-2 (11.1.0.152-1) ...\n",
            "Setting up cuda-nvprof-11-2 (11.2.152-1) ...\n",
            "Setting up gcc-5-base:amd64 (5.5.0-12ubuntu1) ...\n",
            "Setting up cuda-libraries-11-2 (11.2.2-1) ...\n",
            "Setting up libmpx0:amd64 (5.5.0-12ubuntu1) ...\n",
            "Setting up libcusolver-dev-11-2 (11.1.0.152-1) ...\n",
            "Setting up libcublas-dev-11-2 (11.4.1.1043-1) ...\n",
            "Setting up libasan2:amd64 (5.5.0-12ubuntu1) ...\n",
            "Setting up cuda-libraries-dev-11-2 (11.2.2-1) ...\n",
            "Setting up cuda-nvcc-11-2 (11.2.152-1) ...\n",
            "Setting up libgcc-5-dev:amd64 (5.5.0-12ubuntu1) ...\n",
            "Setting up cuda-gdb-11-2 (11.2.152-1) ...\n",
            "Setting up cuda-runtime-11-2 (11.2.2-1) ...\n",
            "Setting up cpp-5 (5.5.0-12ubuntu1) ...\n",
            "Setting up libstdc++-5-dev:amd64 (5.5.0-12ubuntu1) ...\n",
            "Setting up cuda-demo-suite-11-2 (11.2.152-1) ...\n",
            "Setting up cuda-samples-11-2 (11.2.152-1) ...\n",
            "Setting up cuda-compiler-11-2 (11.2.2-1) ...\n",
            "Setting up cuda-visual-tools-11-2 (11.2.2-1) ...\n",
            "Setting up cuda-documentation-11-2 (11.2.154-1) ...\n",
            "Setting up cuda-cupti-11-2 (11.2.152-1) ...\n",
            "Setting up gcc-5 (5.5.0-12ubuntu1) ...\n",
            "Setting up g++-5 (5.5.0-12ubuntu1) ...\n",
            "Setting up cuda-cupti-dev-11-2 (11.2.152-1) ...\n",
            "Setting up cuda-command-line-tools-11-2 (11.2.2-1) ...\n",
            "Setting up cuda-tools-11-2 (11.2.2-1) ...\n",
            "Setting up cuda-toolkit-11-2 (11.2.2-1) ...\n",
            "Setting alternatives\n",
            "update-alternatives: using /usr/local/cuda-11.2 to provide /usr/local/cuda (cuda) in auto mode\n",
            "update-alternatives: using /usr/local/cuda-11.2 to provide /usr/local/cuda-11 (cuda-11) in auto mode\n",
            "Setting up cuda-11-2 (11.2.2-1) ...\n",
            "Setting up cuda (11.2.2-1) ...\n",
            "Processing triggers for libc-bin (2.27-3ubuntu1.2) ...\n",
            "/sbin/ldconfig.real: /usr/local/lib/python3.7/dist-packages/ideep4py/lib/libmkldnn.so.0 is not a symbolic link\n",
            "\n",
            "Processing triggers for man-db (2.8.3-2ubuntu0.1) ...\n"
          ],
          "name": "stdout"
        }
      ]
    },
    {
      "cell_type": "code",
      "metadata": {
        "colab": {
          "base_uri": "https://localhost:8080/"
        },
        "id": "Kkw_33FuY-WX",
        "outputId": "05b8ae41-0326-47df-c8f7-f0854ea734a8"
      },
      "source": [
        "# Links GCC and G++\n",
        "!ln -s /usr/bin/gcc-5 /usr/local/cuda/bin/gcc;\n",
        "!ln -s /usr/bin/g++-5 /usr/local/cuda/bin/g++;\n"
      ],
      "execution_count": null,
      "outputs": [
        {
          "output_type": "stream",
          "text": [
            "Reading package lists... Done\n",
            "Building dependency tree       \n",
            "Reading state information... Done\n",
            "cuda is already the newest version (8.0.61-1).\n",
            "The following packages were automatically installed and are no longer required:\n",
            "  cuda-11-2 cuda-command-line-tools-11-2 cuda-compiler-11-2 cuda-cudart-11-2\n",
            "  cuda-cudart-dev-11-2 cuda-cuobjdump-11-2 cuda-cupti-11-2 cuda-cupti-dev-11-2\n",
            "  cuda-cuxxfilt-11-2 cuda-demo-suite-11-2 cuda-documentation-11-2\n",
            "  cuda-driver-dev-11-2 cuda-gdb-11-2 cuda-libraries-11-2\n",
            "  cuda-libraries-dev-11-2 cuda-memcheck-11-2 cuda-nsight-11-2\n",
            "  cuda-nsight-compute-11-2 cuda-nsight-systems-11-2 cuda-nvcc-11-2\n",
            "  cuda-nvdisasm-11-2 cuda-nvml-dev-11-2 cuda-nvprof-11-2 cuda-nvprune-11-2\n",
            "  cuda-nvrtc-11-2 cuda-nvrtc-dev-11-2 cuda-nvtx-11-2 cuda-nvvp-11-2\n",
            "  cuda-runtime-11-2 cuda-samples-11-2 cuda-sanitizer-11-2 cuda-toolkit-11-2\n",
            "  cuda-tools-11-2 cuda-visual-tools-11-2 libcublas-11-2 libcublas-dev-11-2\n",
            "  libcufft-11-2 libcufft-dev-11-2 libcurand-11-2 libcurand-dev-11-2\n",
            "  libcusolver-11-2 libcusolver-dev-11-2 libcusparse-11-2 libcusparse-dev-11-2\n",
            "  libnpp-11-2 libnpp-dev-11-2 libnvjpeg-11-2 libnvjpeg-dev-11-2\n",
            "Use 'apt autoremove' to remove them.\n",
            "0 upgraded, 0 newly installed, 0 to remove and 50 not upgraded.\n"
          ],
          "name": "stdout"
        }
      ]
    },
    {
      "cell_type": "code",
      "metadata": {
        "colab": {
          "base_uri": "https://localhost:8080/"
        },
        "id": "n7PwvJCkM4OZ",
        "outputId": "cc7bc274-b49a-4e92-db40-91e62ff368c4"
      },
      "source": [
        "#2. Check the version of cuda\n",
        "import os\n",
        "# !apt autoremove\n",
        "!nvcc --version"
      ],
      "execution_count": null,
      "outputs": [
        {
          "output_type": "stream",
          "text": [
            "nvcc: NVIDIA (R) Cuda compiler driver\n",
            "Copyright (c) 2005-2016 NVIDIA Corporation\n",
            "Built on Tue_Jan_10_13:22:03_CST_2017\n",
            "Cuda compilation tools, release 8.0, V8.0.61\n"
          ],
          "name": "stdout"
        }
      ]
    },
    {
      "cell_type": "code",
      "metadata": {
        "colab": {
          "base_uri": "https://localhost:8080/"
        },
        "id": "IUR7tyv7akkx",
        "outputId": "f5270893-82ea-4c18-a01b-843a3e5bc309"
      },
      "source": [
        "!gcc -v     "
      ],
      "execution_count": null,
      "outputs": [
        {
          "output_type": "stream",
          "text": [
            "Using built-in specs.\n",
            "COLLECT_GCC=gcc\n",
            "COLLECT_LTO_WRAPPER=/usr/lib/gcc/x86_64-linux-gnu/5/lto-wrapper\n",
            "Target: x86_64-linux-gnu\n",
            "Configured with: ../src/configure -v --with-pkgversion='Ubuntu 5.5.0-12ubuntu1' --with-bugurl=file:///usr/share/doc/gcc-5/README.Bugs --enable-languages=c,ada,c++,go,d,fortran,objc,obj-c++ --prefix=/usr --program-suffix=-5 --enable-shared --enable-linker-build-id --libexecdir=/usr/lib --without-included-gettext --enable-threads=posix --libdir=/usr/lib --enable-nls --with-sysroot=/ --enable-clocale=gnu --enable-libstdcxx-debug --enable-libstdcxx-time=yes --with-default-libstdcxx-abi=new --enable-gnu-unique-object --disable-vtable-verify --enable-libmpx --enable-plugin --enable-default-pie --with-system-zlib --enable-objc-gc --enable-multiarch --disable-werror --with-arch-32=i686 --with-abi=m64 --with-multilib-list=m32,m64,mx32 --enable-multilib --with-tune=generic --enable-checking=release --build=x86_64-linux-gnu --host=x86_64-linux-gnu --target=x86_64-linux-gnu\n",
            "Thread model: posix\n",
            "gcc version 5.5.0 20171010 (Ubuntu 5.5.0-12ubuntu1) \n"
          ],
          "name": "stdout"
        }
      ]
    },
    {
      "cell_type": "code",
      "metadata": {
        "colab": {
          "base_uri": "https://localhost:8080/"
        },
        "id": "i-mNG8iHPtI0",
        "outputId": "009c1f2a-917c-43c3-c0cb-d1a2bca52d98"
      },
      "source": [
        "#4. Install Torch\n",
        "# !apt autoremove\n",
        "! pip install torch==0.4.1.post2"
      ],
      "execution_count": null,
      "outputs": [
        {
          "output_type": "stream",
          "text": [
            "Collecting torch==0.4.1.post2\n",
            "\u001b[?25l  Downloading https://files.pythonhosted.org/packages/d3/91/1b2871d6c8ca079254deae5872af32e02e9a85f07dd0834e8b3489ce138f/torch-0.4.1.post2-cp37-cp37m-manylinux1_x86_64.whl (519.5MB)\n",
            "\u001b[K     |████████████████████████████████| 519.5MB 33kB/s \n",
            "\u001b[31mERROR: torchvision 0.9.1+cu101 has requirement torch==1.8.1, but you'll have torch 0.4.1.post2 which is incompatible.\u001b[0m\n",
            "\u001b[31mERROR: torchtext 0.9.1 has requirement torch==1.8.1, but you'll have torch 0.4.1.post2 which is incompatible.\u001b[0m\n",
            "\u001b[31mERROR: fastai 1.0.61 has requirement torch>=1.0.0, but you'll have torch 0.4.1.post2 which is incompatible.\u001b[0m\n",
            "\u001b[?25hInstalling collected packages: torch\n",
            "  Found existing installation: torch 1.8.1+cu101\n",
            "    Uninstalling torch-1.8.1+cu101:\n",
            "      Successfully uninstalled torch-1.8.1+cu101\n",
            "Successfully installed torch-0.4.1.post2\n"
          ],
          "name": "stdout"
        }
      ]
    },
    {
      "cell_type": "code",
      "metadata": {
        "colab": {
          "base_uri": "https://localhost:8080/"
        },
        "id": "4e0RlPHUQ5xB",
        "outputId": "3bb72107-61b0-41ce-ea09-1d6ac7deab9d"
      },
      "source": [
        "#6. Fix any missing\n",
        "!sudo apt-get update --fix-missing"
      ],
      "execution_count": null,
      "outputs": [
        {
          "output_type": "stream",
          "text": [
            "\r0% [Working]\r            \rGet:1 file:/var/cuda-repo-8-0-local-ga2  InRelease\n",
            "\r            \rIgn:1 file:/var/cuda-repo-8-0-local-ga2  InRelease\n",
            "\r0% [Connecting to archive.ubuntu.com] [Connecting to security.ubuntu.com] [Conn\r                                                                               \rGet:2 file:/var/cuda-repo-8-0-local-ga2  Release [574 B]\n",
            "\r0% [Connecting to archive.ubuntu.com] [Connecting to security.ubuntu.com] [Conn\r                                                                               \rGet:2 file:/var/cuda-repo-8-0-local-ga2  Release [574 B]\n",
            "Hit:3 https://cloud.r-project.org/bin/linux/ubuntu bionic-cran40/ InRelease\n",
            "Ign:5 https://developer.download.nvidia.com/compute/cuda/repos/ubuntu1804/x86_64  InRelease\n",
            "Hit:6 http://security.ubuntu.com/ubuntu bionic-security InRelease\n",
            "Hit:7 http://archive.ubuntu.com/ubuntu bionic InRelease\n",
            "Hit:8 http://ppa.launchpad.net/c2d4u.team/c2d4u4.0+/ubuntu bionic InRelease\n",
            "Ign:9 https://developer.download.nvidia.com/compute/machine-learning/repos/ubuntu1804/x86_64  InRelease\n",
            "Hit:10 https://developer.download.nvidia.com/compute/cuda/repos/ubuntu1804/x86_64  Release\n",
            "Hit:11 https://developer.download.nvidia.com/compute/machine-learning/repos/ubuntu1804/x86_64  Release\n",
            "Hit:12 http://archive.ubuntu.com/ubuntu bionic-updates InRelease\n",
            "Hit:13 http://ppa.launchpad.net/cran/libgit2/ubuntu bionic InRelease\n",
            "Hit:14 http://archive.ubuntu.com/ubuntu bionic-backports InRelease\n",
            "Hit:15 http://ppa.launchpad.net/deadsnakes/ppa/ubuntu bionic InRelease\n",
            "Hit:18 http://ppa.launchpad.net/graphics-drivers/ppa/ubuntu bionic InRelease\n",
            "Reading package lists... Done\n"
          ],
          "name": "stdout"
        }
      ]
    },
    {
      "cell_type": "code",
      "metadata": {
        "colab": {
          "background_save": true,
          "base_uri": "https://localhost:8080/",
          "height": 1000
        },
        "id": "f-8arh9mTX0N",
        "outputId": "673356f5-ff69-42f0-85c1-587eb4f290eb"
      },
      "source": [
        "#7. Install other dependencies\n",
        "!pip install imgaug==0.2.5\n",
        "!pip install folium==0.2.1\n",
        "!pip install cffi==1.11.5\n",
        "!pip install opencv-python==3.4.4.19\n",
        "!pip install tqdm==4.59.0\n",
        "!pip install scikit-image==0.14.2"
      ],
      "execution_count": null,
      "outputs": [
        {
          "output_type": "stream",
          "text": [
            "Collecting imgaug==0.2.5\n",
            "\u001b[?25l  Downloading https://files.pythonhosted.org/packages/d2/60/a06a48d85a7e9062f5870347a3e3e953da30b37928d43b380c949bca458a/imgaug-0.2.5.tar.gz (562kB)\n",
            "\u001b[K     |████████████████████████████████| 563kB 18.1MB/s \n",
            "\u001b[?25hRequirement already satisfied: scipy in /usr/local/lib/python3.7/dist-packages (from imgaug==0.2.5) (1.4.1)\n",
            "Requirement already satisfied: scikit-image>=0.11.0 in /usr/local/lib/python3.7/dist-packages (from imgaug==0.2.5) (0.16.2)\n",
            "Requirement already satisfied: numpy>=1.7.0 in /usr/local/lib/python3.7/dist-packages (from imgaug==0.2.5) (1.16.3)\n",
            "Requirement already satisfied: six in /usr/local/lib/python3.7/dist-packages (from imgaug==0.2.5) (1.15.0)\n",
            "Requirement already satisfied: pillow>=4.3.0 in /usr/local/lib/python3.7/dist-packages (from scikit-image>=0.11.0->imgaug==0.2.5) (7.1.2)\n",
            "Requirement already satisfied: networkx>=2.0 in /usr/local/lib/python3.7/dist-packages (from scikit-image>=0.11.0->imgaug==0.2.5) (2.5)\n",
            "Requirement already satisfied: matplotlib!=3.0.0,>=2.0.0 in /usr/local/lib/python3.7/dist-packages (from scikit-image>=0.11.0->imgaug==0.2.5) (3.2.2)\n",
            "Requirement already satisfied: PyWavelets>=0.4.0 in /usr/local/lib/python3.7/dist-packages (from scikit-image>=0.11.0->imgaug==0.2.5) (1.1.1)\n",
            "Requirement already satisfied: imageio>=2.3.0 in /usr/local/lib/python3.7/dist-packages (from scikit-image>=0.11.0->imgaug==0.2.5) (2.4.1)\n",
            "Requirement already satisfied: decorator>=4.3.0 in /usr/local/lib/python3.7/dist-packages (from networkx>=2.0->scikit-image>=0.11.0->imgaug==0.2.5) (4.4.2)\n",
            "Requirement already satisfied: python-dateutil>=2.1 in /usr/local/lib/python3.7/dist-packages (from matplotlib!=3.0.0,>=2.0.0->scikit-image>=0.11.0->imgaug==0.2.5) (2.8.1)\n",
            "Requirement already satisfied: cycler>=0.10 in /usr/local/lib/python3.7/dist-packages (from matplotlib!=3.0.0,>=2.0.0->scikit-image>=0.11.0->imgaug==0.2.5) (0.10.0)\n",
            "Requirement already satisfied: pyparsing!=2.0.4,!=2.1.2,!=2.1.6,>=2.0.1 in /usr/local/lib/python3.7/dist-packages (from matplotlib!=3.0.0,>=2.0.0->scikit-image>=0.11.0->imgaug==0.2.5) (2.4.7)\n",
            "Requirement already satisfied: kiwisolver>=1.0.1 in /usr/local/lib/python3.7/dist-packages (from matplotlib!=3.0.0,>=2.0.0->scikit-image>=0.11.0->imgaug==0.2.5) (1.3.1)\n",
            "Building wheels for collected packages: imgaug\n",
            "  Building wheel for imgaug (setup.py) ... \u001b[?25l\u001b[?25hdone\n",
            "  Created wheel for imgaug: filename=imgaug-0.2.5-cp37-none-any.whl size=561439 sha256=bbcd56706f3c178928824e44806e5440c5ea9aa4815def4fb2a59a0838050155\n",
            "  Stored in directory: /root/.cache/pip/wheels/31/48/c8/ca3345e8582a078de94243996e148377ef66fdb845557bae0b\n",
            "Successfully built imgaug\n",
            "Installing collected packages: imgaug\n",
            "  Found existing installation: imgaug 0.2.9\n",
            "    Uninstalling imgaug-0.2.9:\n",
            "      Successfully uninstalled imgaug-0.2.9\n",
            "Successfully installed imgaug-0.2.5\n",
            "Collecting folium==0.2.1\n",
            "\u001b[?25l  Downloading https://files.pythonhosted.org/packages/72/dd/75ced7437bfa7cb9a88b96ee0177953062803c3b4cde411a97d98c35adaf/folium-0.2.1.tar.gz (69kB)\n",
            "\u001b[K     |████████████████████████████████| 71kB 6.9MB/s \n",
            "\u001b[?25hRequirement already satisfied: Jinja2 in /usr/local/lib/python3.7/dist-packages (from folium==0.2.1) (2.11.3)\n",
            "Requirement already satisfied: MarkupSafe>=0.23 in /usr/local/lib/python3.7/dist-packages (from Jinja2->folium==0.2.1) (1.1.1)\n",
            "Building wheels for collected packages: folium\n",
            "  Building wheel for folium (setup.py) ... \u001b[?25l\u001b[?25hdone\n",
            "  Created wheel for folium: filename=folium-0.2.1-cp37-none-any.whl size=79979 sha256=602ac256b706f02a35df6427d933efcf8f8fe0640261986baff8148ab73a8a9e\n",
            "  Stored in directory: /root/.cache/pip/wheels/b8/09/f0/52d2ef419c2aaf4fb149f92a33e0008bdce7ae816f0dd8f0c5\n",
            "Successfully built folium\n",
            "Installing collected packages: folium\n",
            "  Found existing installation: folium 0.8.3\n",
            "    Uninstalling folium-0.8.3:\n",
            "      Successfully uninstalled folium-0.8.3\n",
            "Successfully installed folium-0.2.1\n",
            "Collecting cffi==1.11.5\n",
            "\u001b[?25l  Downloading https://files.pythonhosted.org/packages/51/7b/d1014289d0578c3522b2798b9cb87c65e5b36798bd3ae68a75fa1fe09e78/cffi-1.11.5-cp37-cp37m-manylinux1_x86_64.whl (421kB)\n",
            "\u001b[K     |████████████████████████████████| 430kB 18.4MB/s \n",
            "\u001b[?25hRequirement already satisfied: pycparser in /usr/local/lib/python3.7/dist-packages (from cffi==1.11.5) (2.20)\n",
            "Installing collected packages: cffi\n",
            "  Found existing installation: cffi 1.14.5\n",
            "    Uninstalling cffi-1.14.5:\n",
            "      Successfully uninstalled cffi-1.14.5\n",
            "Successfully installed cffi-1.11.5\n"
          ],
          "name": "stdout"
        },
        {
          "output_type": "display_data",
          "data": {
            "application/vnd.colab-display-data+json": {
              "pip_warning": {
                "packages": [
                  "cffi"
                ]
              }
            }
          },
          "metadata": {
            "tags": []
          }
        },
        {
          "output_type": "stream",
          "text": [
            "Collecting opencv-python==3.4.4.19\n",
            "\u001b[?25l  Downloading https://files.pythonhosted.org/packages/49/96/98b3d3c77161fd491011a7311c731b6a726ccb8741df4b891de5f3ebb0a8/opencv_python-3.4.4.19-cp37-cp37m-manylinux1_x86_64.whl (25.4MB)\n",
            "\u001b[K     |████████████████████████████████| 25.4MB 120kB/s \n",
            "\u001b[?25hRequirement already satisfied: numpy>=1.14.5 in /usr/local/lib/python3.7/dist-packages (from opencv-python==3.4.4.19) (1.16.3)\n",
            "Installing collected packages: opencv-python\n",
            "  Found existing installation: opencv-python 4.1.2.30\n",
            "    Uninstalling opencv-python-4.1.2.30:\n",
            "      Successfully uninstalled opencv-python-4.1.2.30\n",
            "Successfully installed opencv-python-3.4.4.19\n",
            "Collecting tqdm==4.59.0\n",
            "\u001b[?25l  Downloading https://files.pythonhosted.org/packages/f8/3e/2730d0effc282960dbff3cf91599ad0d8f3faedc8e75720fdf224b31ab24/tqdm-4.59.0-py2.py3-none-any.whl (74kB)\n",
            "\u001b[K     |████████████████████████████████| 81kB 7.5MB/s \n",
            "\u001b[31mERROR: torchtext 0.9.1 has requirement torch==1.8.1, but you'll have torch 0.4.1.post2 which is incompatible.\u001b[0m\n",
            "\u001b[31mERROR: fastai 1.0.61 has requirement torch>=1.0.0, but you'll have torch 0.4.1.post2 which is incompatible.\u001b[0m\n",
            "\u001b[?25hInstalling collected packages: tqdm\n",
            "  Found existing installation: tqdm 4.41.1\n",
            "    Uninstalling tqdm-4.41.1:\n",
            "      Successfully uninstalled tqdm-4.41.1\n",
            "Successfully installed tqdm-4.59.0\n",
            "Collecting scikit-image==0.14.2\n",
            "\u001b[?25l  Downloading https://files.pythonhosted.org/packages/b7/66/a7f7649e5abf9cf1a908134fe6b52f8c5bb4e4059e47dd497bd173a951c6/scikit_image-0.14.2-cp37-cp37m-manylinux1_x86_64.whl (25.3MB)\n",
            "\u001b[K     |████████████████████████████████| 25.3MB 137kB/s \n",
            "\u001b[?25hRequirement already satisfied: networkx>=1.8 in /usr/local/lib/python3.7/dist-packages (from scikit-image==0.14.2) (2.5)\n",
            "Requirement already satisfied: scipy>=0.17.0 in /usr/local/lib/python3.7/dist-packages (from scikit-image==0.14.2) (1.4.1)\n",
            "Requirement already satisfied: matplotlib>=2.0.0 in /usr/local/lib/python3.7/dist-packages (from scikit-image==0.14.2) (3.2.2)\n",
            "Requirement already satisfied: pillow>=4.3.0 in /usr/local/lib/python3.7/dist-packages (from scikit-image==0.14.2) (7.1.2)\n",
            "Requirement already satisfied: cloudpickle>=0.2.1 in /usr/local/lib/python3.7/dist-packages (from scikit-image==0.14.2) (1.3.0)\n",
            "Requirement already satisfied: dask[array]>=1.0.0 in /usr/local/lib/python3.7/dist-packages (from scikit-image==0.14.2) (2.12.0)\n",
            "Requirement already satisfied: PyWavelets>=0.4.0 in /usr/local/lib/python3.7/dist-packages (from scikit-image==0.14.2) (1.1.1)\n",
            "Requirement already satisfied: six>=1.10.0 in /usr/local/lib/python3.7/dist-packages (from scikit-image==0.14.2) (1.15.0)\n",
            "Requirement already satisfied: decorator>=4.3.0 in /usr/local/lib/python3.7/dist-packages (from networkx>=1.8->scikit-image==0.14.2) (4.4.2)\n",
            "Requirement already satisfied: numpy>=1.13.3 in /usr/local/lib/python3.7/dist-packages (from scipy>=0.17.0->scikit-image==0.14.2) (1.16.3)\n",
            "Requirement already satisfied: pyparsing!=2.0.4,!=2.1.2,!=2.1.6,>=2.0.1 in /usr/local/lib/python3.7/dist-packages (from matplotlib>=2.0.0->scikit-image==0.14.2) (2.4.7)\n",
            "Requirement already satisfied: kiwisolver>=1.0.1 in /usr/local/lib/python3.7/dist-packages (from matplotlib>=2.0.0->scikit-image==0.14.2) (1.3.1)\n",
            "Requirement already satisfied: cycler>=0.10 in /usr/local/lib/python3.7/dist-packages (from matplotlib>=2.0.0->scikit-image==0.14.2) (0.10.0)\n",
            "Requirement already satisfied: python-dateutil>=2.1 in /usr/local/lib/python3.7/dist-packages (from matplotlib>=2.0.0->scikit-image==0.14.2) (2.8.1)\n",
            "Requirement already satisfied: toolz>=0.7.3; extra == \"array\" in /usr/local/lib/python3.7/dist-packages (from dask[array]>=1.0.0->scikit-image==0.14.2) (0.11.1)\n",
            "Installing collected packages: scikit-image\n",
            "  Found existing installation: scikit-image 0.16.2\n",
            "    Uninstalling scikit-image-0.16.2:\n",
            "      Successfully uninstalled scikit-image-0.16.2\n",
            "Successfully installed scikit-image-0.14.2\n"
          ],
          "name": "stdout"
        }
      ]
    },
    {
      "cell_type": "code",
      "metadata": {
        "colab": {
          "base_uri": "https://localhost:8080/",
          "height": 35
        },
        "id": "gGJE6TcBSumI",
        "outputId": "60fc873a-6934-424b-ebba-706d043d7831"
      },
      "source": [
        "pwd"
      ],
      "execution_count": null,
      "outputs": [
        {
          "output_type": "execute_result",
          "data": {
            "application/vnd.google.colaboratory.intrinsic+json": {
              "type": "string"
            },
            "text/plain": [
              "'/content/drive/My Drive/EVA5/Assignment15A/planercnn'"
            ]
          },
          "metadata": {
            "tags": []
          },
          "execution_count": 25
        }
      ]
    },
    {
      "cell_type": "code",
      "metadata": {
        "id": "8PuDHStxS3q8"
      },
      "source": [
        ""
      ],
      "execution_count": null,
      "outputs": []
    },
    {
      "cell_type": "code",
      "metadata": {
        "colab": {
          "base_uri": "https://localhost:8080/"
        },
        "id": "2S8oBOQRU-jC",
        "outputId": "2300a419-e144-4de7-9225-4877c61f9397"
      },
      "source": [
        "ls"
      ],
      "execution_count": null,
      "outputs": [
        {
          "output_type": "stream",
          "text": [
            "\u001b[0m\u001b[01;34manchors\u001b[0m/                                               \u001b[01;34mnms\u001b[0m/\n",
            "config.py                                              options.py\n",
            "cuda-repo-ubuntu1604-8-0-local-ga2_8.0.61-1_amd64-deb  plane_utils.py\n",
            "\u001b[01;34mdata_prep\u001b[0m/                                             README.md\n",
            "\u001b[01;34mdatasets\u001b[0m/                                              requirements.txt\n",
            "evaluate.py                                            \u001b[01;34mroialign\u001b[0m/\n",
            "evaluate_utils.py                                      train_planercnn.py\n",
            "\u001b[01;34mexample_images\u001b[0m/                                        utils.py\n",
            "LICENSE.md                                             visualize_utils.py\n",
            "\u001b[01;34mmodels\u001b[0m/\n"
          ],
          "name": "stdout"
        }
      ]
    },
    {
      "cell_type": "code",
      "metadata": {
        "colab": {
          "base_uri": "https://localhost:8080/"
        },
        "id": "OJrdcYXeTAfV",
        "outputId": "67efa6f9-9958-40f5-c0af-b019775536d1"
      },
      "source": [
        "#9.1 Build NMS\n",
        "%cd nms/src/cuda/"
      ],
      "execution_count": null,
      "outputs": [
        {
          "output_type": "stream",
          "text": [
            "/content/drive/My Drive/EVA5/Assignment15A/planercnn/nms/src/cuda\n"
          ],
          "name": "stdout"
        }
      ]
    },
    {
      "cell_type": "code",
      "metadata": {
        "colab": {
          "base_uri": "https://localhost:8080/",
          "height": 35
        },
        "id": "-hapCo0aD6v9",
        "outputId": "74cb07d2-3df7-49ef-cbea-ecf57866e763"
      },
      "source": [
        "pwd"
      ],
      "execution_count": null,
      "outputs": [
        {
          "output_type": "execute_result",
          "data": {
            "application/vnd.google.colaboratory.intrinsic+json": {
              "type": "string"
            },
            "text/plain": [
              "'/content/drive/My Drive/EVA5/Assignment15A/planercnn/nms/src/cuda'"
            ]
          },
          "metadata": {
            "tags": []
          },
          "execution_count": 29
        }
      ]
    },
    {
      "cell_type": "code",
      "metadata": {
        "colab": {
          "base_uri": "https://localhost:8080/"
        },
        "id": "ntsL6MHMD91r",
        "outputId": "bf97ff0b-3623-4bae-a95d-dcf4466e2b70"
      },
      "source": [
        "ls"
      ],
      "execution_count": null,
      "outputs": [
        {
          "output_type": "stream",
          "text": [
            "nms_kernel.cu  nms_kernel.h\n"
          ],
          "name": "stdout"
        }
      ]
    },
    {
      "cell_type": "code",
      "metadata": {
        "id": "alDdP_WOVRZN"
      },
      "source": [
        "#9.2 Build NMS\n",
        "!nvcc -c -o nms_kernel.cu.o nms_kernel.cu -x cu -Xcompiler -fPIC -arch=sm_60"
      ],
      "execution_count": null,
      "outputs": []
    },
    {
      "cell_type": "code",
      "metadata": {
        "id": "F4aBKoA6Vbeg",
        "colab": {
          "base_uri": "https://localhost:8080/"
        },
        "outputId": "973867dc-6bec-4901-9538-8dda36b69d25"
      },
      "source": [
        "cd ../../"
      ],
      "execution_count": null,
      "outputs": [
        {
          "output_type": "stream",
          "text": [
            "/content/drive/My Drive/EVA5/Assignment15A/planercnn/nms\n"
          ],
          "name": "stdout"
        }
      ]
    },
    {
      "cell_type": "code",
      "metadata": {
        "colab": {
          "base_uri": "https://localhost:8080/"
        },
        "id": "11_I8tHkeInU",
        "outputId": "e51d2f18-c4e1-46d6-9ae6-b056c6073e65"
      },
      "source": [
        "!python build.py"
      ],
      "execution_count": null,
      "outputs": [
        {
          "output_type": "stream",
          "text": [
            "Including CUDA code.\n",
            "/content/drive/My Drive/EVA5/Assignment15A/planercnn/nms\n",
            "generating /tmp/tmpcoclj6_v/_nms.c\n",
            "setting the current directory to '/tmp/tmpcoclj6_v'\n",
            "running build_ext\n",
            "building '_nms' extension\n",
            "creating content\n",
            "creating content/drive\n",
            "creating content/drive/My Drive\n",
            "creating content/drive/My Drive/EVA5\n",
            "creating content/drive/My Drive/EVA5/Assignment15A\n",
            "creating content/drive/My Drive/EVA5/Assignment15A/planercnn\n",
            "creating content/drive/My Drive/EVA5/Assignment15A/planercnn/nms\n",
            "creating content/drive/My Drive/EVA5/Assignment15A/planercnn/nms/src\n",
            "x86_64-linux-gnu-gcc -pthread -Wno-unused-result -Wsign-compare -DNDEBUG -g -fwrapv -O2 -Wall -g -fdebug-prefix-map=/build/python3.7-a56wZI/python3.7-3.7.10=. -fstack-protector-strong -Wformat -Werror=format-security -g -fdebug-prefix-map=/build/python3.7-a56wZI/python3.7-3.7.10=. -fstack-protector-strong -Wformat -Werror=format-security -Wdate-time -D_FORTIFY_SOURCE=2 -fPIC -DWITH_CUDA -I/usr/local/lib/python3.7/dist-packages/torch/utils/ffi/../../lib/include -I/usr/local/lib/python3.7/dist-packages/torch/utils/ffi/../../lib/include/TH -I/usr/local/lib/python3.7/dist-packages/torch/utils/ffi/../../lib/include/THC -I/usr/local/cuda/include -I/usr/include/python3.7m -c _nms.c -o ./_nms.o -std=c99\n",
            "x86_64-linux-gnu-gcc -pthread -Wno-unused-result -Wsign-compare -DNDEBUG -g -fwrapv -O2 -Wall -g -fdebug-prefix-map=/build/python3.7-a56wZI/python3.7-3.7.10=. -fstack-protector-strong -Wformat -Werror=format-security -g -fdebug-prefix-map=/build/python3.7-a56wZI/python3.7-3.7.10=. -fstack-protector-strong -Wformat -Werror=format-security -Wdate-time -D_FORTIFY_SOURCE=2 -fPIC -DWITH_CUDA -I/usr/local/lib/python3.7/dist-packages/torch/utils/ffi/../../lib/include -I/usr/local/lib/python3.7/dist-packages/torch/utils/ffi/../../lib/include/TH -I/usr/local/lib/python3.7/dist-packages/torch/utils/ffi/../../lib/include/THC -I/usr/local/cuda/include -I/usr/include/python3.7m -c /content/drive/My Drive/EVA5/Assignment15A/planercnn/nms/src/nms.c -o ./content/drive/My Drive/EVA5/Assignment15A/planercnn/nms/src/nms.o -std=c99\n",
            "x86_64-linux-gnu-gcc -pthread -Wno-unused-result -Wsign-compare -DNDEBUG -g -fwrapv -O2 -Wall -g -fdebug-prefix-map=/build/python3.7-a56wZI/python3.7-3.7.10=. -fstack-protector-strong -Wformat -Werror=format-security -g -fdebug-prefix-map=/build/python3.7-a56wZI/python3.7-3.7.10=. -fstack-protector-strong -Wformat -Werror=format-security -Wdate-time -D_FORTIFY_SOURCE=2 -fPIC -DWITH_CUDA -I/usr/local/lib/python3.7/dist-packages/torch/utils/ffi/../../lib/include -I/usr/local/lib/python3.7/dist-packages/torch/utils/ffi/../../lib/include/TH -I/usr/local/lib/python3.7/dist-packages/torch/utils/ffi/../../lib/include/THC -I/usr/local/cuda/include -I/usr/include/python3.7m -c /content/drive/My Drive/EVA5/Assignment15A/planercnn/nms/src/nms_cuda.c -o ./content/drive/My Drive/EVA5/Assignment15A/planercnn/nms/src/nms_cuda.o -std=c99\n",
            "\u001b[01m\u001b[K/content/drive/My Drive/EVA5/Assignment15A/planercnn/nms/src/nms_cuda.c:\u001b[m\u001b[K In function ‘\u001b[01m\u001b[Kgpu_nms\u001b[m\u001b[K’:\n",
            "\u001b[01m\u001b[K/content/drive/My Drive/EVA5/Assignment15A/planercnn/nms/src/nms_cuda.c:29:35:\u001b[m\u001b[K \u001b[01;35m\u001b[Kwarning: \u001b[m\u001b[Kinitialization from incompatible pointer type [\u001b[01;35m\u001b[K-Wincompatible-pointer-types\u001b[m\u001b[K]\n",
            "   unsigned long long* mask_flat = \u001b[01;35m\u001b[KTHCudaLongTensor_data\u001b[m\u001b[K(state, mask);\n",
            "                                   \u001b[01;35m\u001b[K^~~~~~~~~~~~~~~~~~~~~\u001b[m\u001b[K\n",
            "\u001b[01m\u001b[K/content/drive/My Drive/EVA5/Assignment15A/planercnn/nms/src/nms_cuda.c:37:40:\u001b[m\u001b[K \u001b[01;35m\u001b[Kwarning: \u001b[m\u001b[Kinitialization from incompatible pointer type [\u001b[01;35m\u001b[K-Wincompatible-pointer-types\u001b[m\u001b[K]\n",
            "   unsigned long long * mask_cpu_flat = \u001b[01;35m\u001b[KTHLongTensor_data\u001b[m\u001b[K(mask_cpu);\n",
            "                                        \u001b[01;35m\u001b[K^~~~~~~~~~~~~~~~~\u001b[m\u001b[K\n",
            "\u001b[01m\u001b[K/content/drive/My Drive/EVA5/Assignment15A/planercnn/nms/src/nms_cuda.c:40:39:\u001b[m\u001b[K \u001b[01;35m\u001b[Kwarning: \u001b[m\u001b[Kinitialization from incompatible pointer type [\u001b[01;35m\u001b[K-Wincompatible-pointer-types\u001b[m\u001b[K]\n",
            "   unsigned long long* remv_cpu_flat = \u001b[01;35m\u001b[KTHLongTensor_data\u001b[m\u001b[K(remv_cpu);\n",
            "                                       \u001b[01;35m\u001b[K^~~~~~~~~~~~~~~~~\u001b[m\u001b[K\n",
            "\u001b[01m\u001b[K/content/drive/My Drive/EVA5/Assignment15A/planercnn/nms/src/nms_cuda.c:23:7:\u001b[m\u001b[K \u001b[01;35m\u001b[Kwarning: \u001b[m\u001b[Kunused variable ‘\u001b[01m\u001b[Kboxes_dim\u001b[m\u001b[K’ [\u001b[01;35m\u001b[K-Wunused-variable\u001b[m\u001b[K]\n",
            "   int \u001b[01;35m\u001b[Kboxes_dim\u001b[m\u001b[K = THCudaTensor_size(state, boxes, 1);\n",
            "       \u001b[01;35m\u001b[K^~~~~~~~~\u001b[m\u001b[K\n",
            "x86_64-linux-gnu-gcc -pthread -shared -Wl,-O1 -Wl,-Bsymbolic-functions -Wl,-Bsymbolic-functions -Wl,-z,relro -Wl,-Bsymbolic-functions -Wl,-z,relro -g -fdebug-prefix-map=/build/python3.7-a56wZI/python3.7-3.7.10=. -fstack-protector-strong -Wformat -Werror=format-security -Wdate-time -D_FORTIFY_SOURCE=2 ./_nms.o ./content/drive/My Drive/EVA5/Assignment15A/planercnn/nms/src/nms.o ./content/drive/My Drive/EVA5/Assignment15A/planercnn/nms/src/nms_cuda.o /content/drive/My Drive/EVA5/Assignment15A/planercnn/nms/src/cuda/nms_kernel.cu.o -o ./_nms.so\n"
          ],
          "name": "stdout"
        }
      ]
    },
    {
      "cell_type": "code",
      "metadata": {
        "colab": {
          "base_uri": "https://localhost:8080/"
        },
        "id": "l-e3aooUeLMA",
        "outputId": "26b148cc-42d6-45aa-d0c1-9d4340482e41"
      },
      "source": [
        "cd ../"
      ],
      "execution_count": null,
      "outputs": [
        {
          "output_type": "stream",
          "text": [
            "/content/drive/My Drive/EVA5/Assignment15A/planercnn\n"
          ],
          "name": "stdout"
        }
      ]
    },
    {
      "cell_type": "code",
      "metadata": {
        "colab": {
          "base_uri": "https://localhost:8080/"
        },
        "id": "k94B860CeRH1",
        "outputId": "a081dbba-c39d-4b53-cd0f-98784416a426"
      },
      "source": [
        "cd roialign/roi_align/src/cuda/"
      ],
      "execution_count": null,
      "outputs": [
        {
          "output_type": "stream",
          "text": [
            "/content/drive/My Drive/EVA5/Assignment15A/planercnn/roialign/roi_align/src/cuda\n"
          ],
          "name": "stdout"
        }
      ]
    },
    {
      "cell_type": "code",
      "metadata": {
        "id": "WgYe_FEmeTVN"
      },
      "source": [
        "!nvcc -c -o crop_and_resize_kernel.cu.o crop_and_resize_kernel.cu -x cu -Xcompiler -fPIC -arch=sm_60"
      ],
      "execution_count": null,
      "outputs": []
    },
    {
      "cell_type": "code",
      "metadata": {
        "colab": {
          "base_uri": "https://localhost:8080/"
        },
        "id": "vw-jBrcieYuq",
        "outputId": "b27cc8b5-58d5-48c2-e4df-4d5d44bed1ea"
      },
      "source": [
        "cd ../../"
      ],
      "execution_count": null,
      "outputs": [
        {
          "output_type": "stream",
          "text": [
            "/content/drive/My Drive/EVA5/Assignment15A/planercnn/roialign/roi_align\n"
          ],
          "name": "stdout"
        }
      ]
    },
    {
      "cell_type": "code",
      "metadata": {
        "colab": {
          "base_uri": "https://localhost:8080/"
        },
        "id": "jeA-u14Keg92",
        "outputId": "1754e885-2708-437f-b992-88321da1e226"
      },
      "source": [
        "!python build.py"
      ],
      "execution_count": null,
      "outputs": [
        {
          "output_type": "stream",
          "text": [
            "Including CUDA code.\n",
            "/content/drive/My Drive/EVA5/Assignment15A/planercnn/roialign/roi_align\n",
            "generating /tmp/tmp0pw_irma/_crop_and_resize.c\n",
            "setting the current directory to '/tmp/tmp0pw_irma'\n",
            "running build_ext\n",
            "building '_crop_and_resize' extension\n",
            "creating content\n",
            "creating content/drive\n",
            "creating content/drive/My Drive\n",
            "creating content/drive/My Drive/EVA5\n",
            "creating content/drive/My Drive/EVA5/Assignment15A\n",
            "creating content/drive/My Drive/EVA5/Assignment15A/planercnn\n",
            "creating content/drive/My Drive/EVA5/Assignment15A/planercnn/roialign\n",
            "creating content/drive/My Drive/EVA5/Assignment15A/planercnn/roialign/roi_align\n",
            "creating content/drive/My Drive/EVA5/Assignment15A/planercnn/roialign/roi_align/src\n",
            "x86_64-linux-gnu-gcc -pthread -Wno-unused-result -Wsign-compare -DNDEBUG -g -fwrapv -O2 -Wall -g -fdebug-prefix-map=/build/python3.7-a56wZI/python3.7-3.7.10=. -fstack-protector-strong -Wformat -Werror=format-security -g -fdebug-prefix-map=/build/python3.7-a56wZI/python3.7-3.7.10=. -fstack-protector-strong -Wformat -Werror=format-security -Wdate-time -D_FORTIFY_SOURCE=2 -fPIC -DWITH_CUDA -I/usr/local/lib/python3.7/dist-packages/torch/utils/ffi/../../lib/include -I/usr/local/lib/python3.7/dist-packages/torch/utils/ffi/../../lib/include/TH -I/usr/local/lib/python3.7/dist-packages/torch/utils/ffi/../../lib/include/THC -I/usr/local/cuda/include -I/usr/include/python3.7m -c _crop_and_resize.c -o ./_crop_and_resize.o -std=c99 -fopenmp -std=c99\n",
            "x86_64-linux-gnu-gcc -pthread -Wno-unused-result -Wsign-compare -DNDEBUG -g -fwrapv -O2 -Wall -g -fdebug-prefix-map=/build/python3.7-a56wZI/python3.7-3.7.10=. -fstack-protector-strong -Wformat -Werror=format-security -g -fdebug-prefix-map=/build/python3.7-a56wZI/python3.7-3.7.10=. -fstack-protector-strong -Wformat -Werror=format-security -Wdate-time -D_FORTIFY_SOURCE=2 -fPIC -DWITH_CUDA -I/usr/local/lib/python3.7/dist-packages/torch/utils/ffi/../../lib/include -I/usr/local/lib/python3.7/dist-packages/torch/utils/ffi/../../lib/include/TH -I/usr/local/lib/python3.7/dist-packages/torch/utils/ffi/../../lib/include/THC -I/usr/local/cuda/include -I/usr/include/python3.7m -c /content/drive/My Drive/EVA5/Assignment15A/planercnn/roialign/roi_align/src/crop_and_resize.c -o ./content/drive/My Drive/EVA5/Assignment15A/planercnn/roialign/roi_align/src/crop_and_resize.o -std=c99 -fopenmp -std=c99\n",
            "x86_64-linux-gnu-gcc -pthread -Wno-unused-result -Wsign-compare -DNDEBUG -g -fwrapv -O2 -Wall -g -fdebug-prefix-map=/build/python3.7-a56wZI/python3.7-3.7.10=. -fstack-protector-strong -Wformat -Werror=format-security -g -fdebug-prefix-map=/build/python3.7-a56wZI/python3.7-3.7.10=. -fstack-protector-strong -Wformat -Werror=format-security -Wdate-time -D_FORTIFY_SOURCE=2 -fPIC -DWITH_CUDA -I/usr/local/lib/python3.7/dist-packages/torch/utils/ffi/../../lib/include -I/usr/local/lib/python3.7/dist-packages/torch/utils/ffi/../../lib/include/TH -I/usr/local/lib/python3.7/dist-packages/torch/utils/ffi/../../lib/include/THC -I/usr/local/cuda/include -I/usr/include/python3.7m -c /content/drive/My Drive/EVA5/Assignment15A/planercnn/roialign/roi_align/src/crop_and_resize_gpu.c -o ./content/drive/My Drive/EVA5/Assignment15A/planercnn/roialign/roi_align/src/crop_and_resize_gpu.o -std=c99 -fopenmp -std=c99\n",
            "x86_64-linux-gnu-gcc -pthread -shared -Wl,-O1 -Wl,-Bsymbolic-functions -Wl,-Bsymbolic-functions -Wl,-z,relro -Wl,-Bsymbolic-functions -Wl,-z,relro -g -fdebug-prefix-map=/build/python3.7-a56wZI/python3.7-3.7.10=. -fstack-protector-strong -Wformat -Werror=format-security -Wdate-time -D_FORTIFY_SOURCE=2 ./_crop_and_resize.o ./content/drive/My Drive/EVA5/Assignment15A/planercnn/roialign/roi_align/src/crop_and_resize.o ./content/drive/My Drive/EVA5/Assignment15A/planercnn/roialign/roi_align/src/crop_and_resize_gpu.o /content/drive/My Drive/EVA5/Assignment15A/planercnn/roialign/roi_align/src/cuda/crop_and_resize_kernel.cu.o -o ./_crop_and_resize.so\n"
          ],
          "name": "stdout"
        }
      ]
    },
    {
      "cell_type": "code",
      "metadata": {
        "colab": {
          "base_uri": "https://localhost:8080/"
        },
        "id": "XA5dGg8eejco",
        "outputId": "f87ef481-76e7-4038-bf7d-f40138ef2b5a"
      },
      "source": [
        "cd ../../"
      ],
      "execution_count": null,
      "outputs": [
        {
          "output_type": "stream",
          "text": [
            "/content/drive/My Drive/EVA5/Assignment15A/planercnn\n"
          ],
          "name": "stdout"
        }
      ]
    },
    {
      "cell_type": "code",
      "metadata": {
        "colab": {
          "base_uri": "https://localhost:8080/",
          "height": 35
        },
        "id": "E21zp84YnG1U",
        "outputId": "77bfb08c-7d3b-4747-d893-e0720cd1bb1e"
      },
      "source": [
        "pwd"
      ],
      "execution_count": 45,
      "outputs": [
        {
          "output_type": "execute_result",
          "data": {
            "application/vnd.google.colaboratory.intrinsic+json": {
              "type": "string"
            },
            "text/plain": [
              "'/content/drive/My Drive/EVA5/Assignment15A/planercnn'"
            ]
          },
          "metadata": {
            "tags": []
          },
          "execution_count": 45
        }
      ]
    },
    {
      "cell_type": "code",
      "metadata": {
        "id": "Ddes28iruI2Z"
      },
      "source": [
        "# !cp /content/drive/MyDrive/EVA5/Assignment15A/planercnn/example_images/camera.txt /content/drive/MyDrive/EVA5/Assignment15A/data/assignment13/images/"
      ],
      "execution_count": 47,
      "outputs": []
    },
    {
      "cell_type": "code",
      "metadata": {
        "colab": {
          "base_uri": "https://localhost:8080/"
        },
        "id": "3B60v1Ireoym",
        "outputId": "022ea2d8-d588-436e-bec5-745cbe082689"
      },
      "source": [
        "!python evaluate.py --methods=f --suffix=warping_refine --dataset=inference --numTestingImages=3590 --customDataFolder=/content/drive/MyDrive/EVA5/Assignment15A/data/assignment13/images/"
      ],
      "execution_count": 84,
      "outputs": [
        {
          "output_type": "stream",
          "text": [
            "the number of images 3590\n",
            "\r  0% 0/3590 [00:00<?, ?it/s]/content/drive/My Drive/EVA5/Assignment15A/planercnn/models/model.py:1473: UserWarning: nn.init.xavier_uniform is now deprecated in favor of nn.init.xavier_uniform_.\n",
            "  nn.init.xavier_uniform(m.weight)\n",
            "rm: cannot remove 'test/inference/*_final.png': No such file or directory\n",
            "THCudaCheck FAIL file=/pytorch/aten/src/THC/THCGeneral.cpp line=663 error=11 : invalid argument\n",
            "/usr/local/lib/python3.7/dist-packages/torch/nn/functional.py:1890: UserWarning: nn.functional.upsample is deprecated. Use nn.functional.interpolate instead.\n",
            "  warnings.warn(\"nn.functional.upsample is deprecated. Use nn.functional.interpolate instead.\")\n",
            "/usr/local/lib/python3.7/dist-packages/torch/nn/modules/upsampling.py:122: UserWarning: nn.Upsampling is deprecated. Use nn.functional.interpolate instead.\n",
            "  warnings.warn(\"nn.Upsampling is deprecated. Use nn.functional.interpolate instead.\")\n",
            "/usr/local/lib/python3.7/dist-packages/torch/nn/functional.py:1961: UserWarning: Default upsampling behavior when mode=bilinear is changed to align_corners=False since 0.4.0. Please specify align_corners=True if the old behavior is desired. See the documentation of nn.Upsample for details.\n",
            "  \"See the documentation of nn.Upsample for details.\".format(mode))\n",
            "100% 3590/3590 [1:34:13<00:00,  1.57s/it]\n"
          ],
          "name": "stdout"
        }
      ]
    },
    {
      "cell_type": "code",
      "metadata": {
        "id": "OaG1oFOjj1iC",
        "colab": {
          "base_uri": "https://localhost:8080/"
        },
        "outputId": "b4757169-3462-4db5-dc57-db18045bde7b"
      },
      "source": [
        "! du -sh /content/drive/MyDrive/EVA5/Assignment15A/planercnn/test/inference"
      ],
      "execution_count": 85,
      "outputs": [
        {
          "output_type": "stream",
          "text": [
            "6.0G\t/content/drive/MyDrive/EVA5/Assignment15A/planercnn/test/inference\n"
          ],
          "name": "stdout"
        }
      ]
    },
    {
      "cell_type": "code",
      "metadata": {
        "id": "9BtjOeQtHE1I"
      },
      "source": [
        ""
      ],
      "execution_count": null,
      "outputs": []
    },
    {
      "cell_type": "code",
      "metadata": {
        "id": "jSsxXBEIHFc-"
      },
      "source": [
        "import shutil\n",
        "import os\n",
        "    \n",
        "source_dir = '/content/drive/MyDrive/EVA5/Assignment15A/planercnn/test/inference'\n",
        "target_dir = '/content/drive/MyDrive/EVA5/Assignment15A/planercnn/data_planercnn'\n",
        "\n",
        "word = \"segmentation_0_final\"    \n",
        "file_names = [names for names in os.listdir(source_dir) if word in names]\n",
        "\n",
        "\n",
        "for file_name in file_names:\n",
        "    shutil.copy(os.path.join(source_dir, file_name), target_dir)"
      ],
      "execution_count": 86,
      "outputs": []
    },
    {
      "cell_type": "code",
      "metadata": {
        "colab": {
          "base_uri": "https://localhost:8080/"
        },
        "id": "SZxUcGEBHFff",
        "outputId": "c65fd33d-d4cc-4094-87f5-0236cb40cbf9"
      },
      "source": [
        "import os\n",
        "\n",
        "path, dirs, files = next(os.walk(target_dir))\n",
        "file_count = len(files)\n",
        "print(file_count)"
      ],
      "execution_count": 89,
      "outputs": [
        {
          "output_type": "stream",
          "text": [
            "500\n"
          ],
          "name": "stdout"
        }
      ]
    },
    {
      "cell_type": "code",
      "metadata": {
        "colab": {
          "base_uri": "https://localhost:8080/"
        },
        "id": "9ffKothxHFh-",
        "outputId": "237985af-b463-4ba8-ff32-fe3151a564ef"
      },
      "source": [
        "!zip -r data_planer.zip data_planercnn/"
      ],
      "execution_count": 95,
      "outputs": [
        {
          "output_type": "stream",
          "text": [
            "  adding: data_planercnn/ (stored 0%)\n",
            "  adding: data_planercnn/0_segmentation_0_final.png (deflated 4%)\n",
            "  adding: data_planercnn/1_segmentation_0_final.png (deflated 0%)\n",
            "  adding: data_planercnn/2_segmentation_0_final.png (deflated 0%)\n",
            "  adding: data_planercnn/3_segmentation_0_final.png (deflated 2%)\n",
            "  adding: data_planercnn/4_segmentation_0_final.png (deflated 5%)\n",
            "  adding: data_planercnn/5_segmentation_0_final.png (deflated 1%)\n",
            "  adding: data_planercnn/6_segmentation_0_final.png (deflated 2%)\n",
            "  adding: data_planercnn/7_segmentation_0_final.png (deflated 3%)\n",
            "  adding: data_planercnn/8_segmentation_0_final.png (deflated 1%)\n",
            "  adding: data_planercnn/9_segmentation_0_final.png (deflated 3%)\n",
            "  adding: data_planercnn/10_segmentation_0_final.png (deflated 3%)\n",
            "  adding: data_planercnn/11_segmentation_0_final.png (deflated 2%)\n",
            "  adding: data_planercnn/12_segmentation_0_final.png (deflated 4%)\n",
            "  adding: data_planercnn/13_segmentation_0_final.png (deflated 1%)\n",
            "  adding: data_planercnn/14_segmentation_0_final.png (deflated 1%)\n",
            "  adding: data_planercnn/15_segmentation_0_final.png (deflated 2%)\n",
            "  adding: data_planercnn/16_segmentation_0_final.png (deflated 1%)\n",
            "  adding: data_planercnn/17_segmentation_0_final.png (deflated 2%)\n",
            "  adding: data_planercnn/18_segmentation_0_final.png (deflated 8%)\n",
            "  adding: data_planercnn/19_segmentation_0_final.png (deflated 2%)\n",
            "  adding: data_planercnn/20_segmentation_0_final.png (deflated 4%)\n",
            "  adding: data_planercnn/21_segmentation_0_final.png (deflated 3%)\n",
            "  adding: data_planercnn/22_segmentation_0_final.png (deflated 2%)\n",
            "  adding: data_planercnn/23_segmentation_0_final.png (deflated 3%)\n",
            "  adding: data_planercnn/24_segmentation_0_final.png (deflated 3%)\n",
            "  adding: data_planercnn/25_segmentation_0_final.png (deflated 2%)\n",
            "  adding: data_planercnn/26_segmentation_0_final.png (deflated 1%)\n",
            "  adding: data_planercnn/27_segmentation_0_final.png (deflated 1%)\n",
            "  adding: data_planercnn/28_segmentation_0_final.png (deflated 1%)\n",
            "  adding: data_planercnn/29_segmentation_0_final.png (deflated 3%)\n",
            "  adding: data_planercnn/30_segmentation_0_final.png (deflated 2%)\n",
            "  adding: data_planercnn/31_segmentation_0_final.png (deflated 2%)\n",
            "  adding: data_planercnn/32_segmentation_0_final.png (deflated 1%)\n",
            "  adding: data_planercnn/33_segmentation_0_final.png (deflated 0%)\n",
            "  adding: data_planercnn/34_segmentation_0_final.png (deflated 1%)\n",
            "  adding: data_planercnn/35_segmentation_0_final.png (deflated 5%)\n",
            "  adding: data_planercnn/36_segmentation_0_final.png (deflated 1%)\n",
            "  adding: data_planercnn/37_segmentation_0_final.png (deflated 1%)\n",
            "  adding: data_planercnn/38_segmentation_0_final.png (deflated 1%)\n",
            "  adding: data_planercnn/39_segmentation_0_final.png (deflated 3%)\n",
            "  adding: data_planercnn/40_segmentation_0_final.png (deflated 1%)\n",
            "  adding: data_planercnn/41_segmentation_0_final.png (deflated 1%)\n",
            "  adding: data_planercnn/42_segmentation_0_final.png (deflated 6%)\n",
            "  adding: data_planercnn/43_segmentation_0_final.png (deflated 3%)\n",
            "  adding: data_planercnn/44_segmentation_0_final.png (deflated 3%)\n",
            "  adding: data_planercnn/45_segmentation_0_final.png (deflated 1%)\n",
            "  adding: data_planercnn/46_segmentation_0_final.png (deflated 4%)\n",
            "  adding: data_planercnn/47_segmentation_0_final.png (deflated 1%)\n",
            "  adding: data_planercnn/48_segmentation_0_final.png (deflated 0%)\n",
            "  adding: data_planercnn/49_segmentation_0_final.png (deflated 16%)\n",
            "  adding: data_planercnn/50_segmentation_0_final.png (deflated 1%)\n",
            "  adding: data_planercnn/51_segmentation_0_final.png (deflated 1%)\n",
            "  adding: data_planercnn/52_segmentation_0_final.png (deflated 2%)\n",
            "  adding: data_planercnn/53_segmentation_0_final.png (deflated 3%)\n",
            "  adding: data_planercnn/54_segmentation_0_final.png (deflated 2%)\n",
            "  adding: data_planercnn/55_segmentation_0_final.png (deflated 2%)\n",
            "  adding: data_planercnn/56_segmentation_0_final.png (deflated 3%)\n",
            "  adding: data_planercnn/57_segmentation_0_final.png (deflated 2%)\n",
            "  adding: data_planercnn/58_segmentation_0_final.png (deflated 2%)\n",
            "  adding: data_planercnn/59_segmentation_0_final.png (deflated 2%)\n",
            "  adding: data_planercnn/60_segmentation_0_final.png (deflated 3%)\n",
            "  adding: data_planercnn/61_segmentation_0_final.png (deflated 5%)\n",
            "  adding: data_planercnn/62_segmentation_0_final.png (deflated 8%)\n",
            "  adding: data_planercnn/63_segmentation_0_final.png (deflated 1%)\n",
            "  adding: data_planercnn/64_segmentation_0_final.png (deflated 2%)\n",
            "  adding: data_planercnn/65_segmentation_0_final.png (deflated 2%)\n",
            "  adding: data_planercnn/66_segmentation_0_final.png (deflated 2%)\n",
            "  adding: data_planercnn/67_segmentation_0_final.png (deflated 0%)\n",
            "  adding: data_planercnn/68_segmentation_0_final.png (deflated 2%)\n",
            "  adding: data_planercnn/69_segmentation_0_final.png (deflated 3%)\n",
            "  adding: data_planercnn/70_segmentation_0_final.png (deflated 2%)\n",
            "  adding: data_planercnn/71_segmentation_0_final.png (deflated 1%)\n",
            "  adding: data_planercnn/72_segmentation_0_final.png (deflated 0%)\n",
            "  adding: data_planercnn/73_segmentation_0_final.png (deflated 0%)\n",
            "  adding: data_planercnn/74_segmentation_0_final.png (deflated 0%)\n",
            "  adding: data_planercnn/75_segmentation_0_final.png (deflated 4%)\n",
            "  adding: data_planercnn/76_segmentation_0_final.png (deflated 7%)\n",
            "  adding: data_planercnn/77_segmentation_0_final.png (deflated 4%)\n",
            "  adding: data_planercnn/78_segmentation_0_final.png (deflated 0%)\n",
            "  adding: data_planercnn/79_segmentation_0_final.png (deflated 0%)\n",
            "  adding: data_planercnn/80_segmentation_0_final.png (deflated 1%)\n",
            "  adding: data_planercnn/81_segmentation_0_final.png (deflated 2%)\n",
            "  adding: data_planercnn/82_segmentation_0_final.png (deflated 3%)\n",
            "  adding: data_planercnn/83_segmentation_0_final.png (deflated 3%)\n",
            "  adding: data_planercnn/84_segmentation_0_final.png (deflated 3%)\n",
            "  adding: data_planercnn/85_segmentation_0_final.png (deflated 6%)\n",
            "  adding: data_planercnn/86_segmentation_0_final.png (deflated 1%)\n",
            "  adding: data_planercnn/87_segmentation_0_final.png (deflated 2%)\n",
            "  adding: data_planercnn/88_segmentation_0_final.png (deflated 1%)\n",
            "  adding: data_planercnn/89_segmentation_0_final.png (deflated 2%)\n",
            "  adding: data_planercnn/90_segmentation_0_final.png (deflated 2%)\n",
            "  adding: data_planercnn/91_segmentation_0_final.png (deflated 1%)\n",
            "  adding: data_planercnn/92_segmentation_0_final.png (deflated 1%)\n",
            "  adding: data_planercnn/93_segmentation_0_final.png (deflated 1%)\n",
            "  adding: data_planercnn/94_segmentation_0_final.png (deflated 3%)\n",
            "  adding: data_planercnn/95_segmentation_0_final.png (deflated 1%)\n",
            "  adding: data_planercnn/96_segmentation_0_final.png (deflated 3%)\n",
            "  adding: data_planercnn/97_segmentation_0_final.png (deflated 5%)\n",
            "  adding: data_planercnn/98_segmentation_0_final.png (deflated 3%)\n",
            "  adding: data_planercnn/99_segmentation_0_final.png (deflated 6%)\n",
            "  adding: data_planercnn/100_segmentation_0_final.png (deflated 3%)\n",
            "  adding: data_planercnn/101_segmentation_0_final.png (deflated 3%)\n",
            "  adding: data_planercnn/102_segmentation_0_final.png (deflated 2%)\n",
            "  adding: data_planercnn/103_segmentation_0_final.png (deflated 4%)\n",
            "  adding: data_planercnn/104_segmentation_0_final.png (deflated 2%)\n",
            "  adding: data_planercnn/105_segmentation_0_final.png (deflated 2%)\n",
            "  adding: data_planercnn/106_segmentation_0_final.png (deflated 1%)\n",
            "  adding: data_planercnn/107_segmentation_0_final.png (deflated 1%)\n",
            "  adding: data_planercnn/108_segmentation_0_final.png (deflated 1%)\n",
            "  adding: data_planercnn/109_segmentation_0_final.png (deflated 3%)\n",
            "  adding: data_planercnn/110_segmentation_0_final.png (deflated 3%)\n",
            "  adding: data_planercnn/111_segmentation_0_final.png (deflated 1%)\n",
            "  adding: data_planercnn/112_segmentation_0_final.png (deflated 5%)\n",
            "  adding: data_planercnn/113_segmentation_0_final.png (deflated 1%)\n",
            "  adding: data_planercnn/114_segmentation_0_final.png (deflated 6%)\n",
            "  adding: data_planercnn/115_segmentation_0_final.png (deflated 3%)\n",
            "  adding: data_planercnn/116_segmentation_0_final.png (deflated 2%)\n",
            "  adding: data_planercnn/117_segmentation_0_final.png (deflated 3%)\n",
            "  adding: data_planercnn/118_segmentation_0_final.png (deflated 2%)\n",
            "  adding: data_planercnn/119_segmentation_0_final.png (deflated 2%)\n",
            "  adding: data_planercnn/120_segmentation_0_final.png (deflated 2%)\n",
            "  adding: data_planercnn/121_segmentation_0_final.png (deflated 4%)\n",
            "  adding: data_planercnn/122_segmentation_0_final.png (deflated 3%)\n",
            "  adding: data_planercnn/123_segmentation_0_final.png (deflated 3%)\n",
            "  adding: data_planercnn/124_segmentation_0_final.png (deflated 2%)\n",
            "  adding: data_planercnn/125_segmentation_0_final.png (deflated 1%)\n",
            "  adding: data_planercnn/126_segmentation_0_final.png (deflated 2%)\n",
            "  adding: data_planercnn/127_segmentation_0_final.png (deflated 2%)\n",
            "  adding: data_planercnn/128_segmentation_0_final.png (deflated 3%)\n",
            "  adding: data_planercnn/129_segmentation_0_final.png (deflated 1%)\n",
            "  adding: data_planercnn/130_segmentation_0_final.png (deflated 6%)\n",
            "  adding: data_planercnn/131_segmentation_0_final.png (deflated 2%)\n",
            "  adding: data_planercnn/132_segmentation_0_final.png (deflated 1%)\n",
            "  adding: data_planercnn/133_segmentation_0_final.png (deflated 1%)\n",
            "  adding: data_planercnn/134_segmentation_0_final.png (deflated 0%)\n",
            "  adding: data_planercnn/135_segmentation_0_final.png (deflated 1%)\n",
            "  adding: data_planercnn/136_segmentation_0_final.png (deflated 2%)\n",
            "  adding: data_planercnn/137_segmentation_0_final.png (deflated 2%)\n",
            "  adding: data_planercnn/138_segmentation_0_final.png (deflated 0%)\n",
            "  adding: data_planercnn/139_segmentation_0_final.png (deflated 1%)\n",
            "  adding: data_planercnn/140_segmentation_0_final.png (deflated 3%)\n",
            "  adding: data_planercnn/141_segmentation_0_final.png (deflated 2%)\n",
            "  adding: data_planercnn/142_segmentation_0_final.png (deflated 1%)\n",
            "  adding: data_planercnn/143_segmentation_0_final.png (deflated 2%)\n",
            "  adding: data_planercnn/144_segmentation_0_final.png (deflated 7%)\n",
            "  adding: data_planercnn/145_segmentation_0_final.png (deflated 6%)\n",
            "  adding: data_planercnn/146_segmentation_0_final.png (deflated 2%)\n",
            "  adding: data_planercnn/147_segmentation_0_final.png (deflated 1%)\n",
            "  adding: data_planercnn/148_segmentation_0_final.png (deflated 5%)\n",
            "  adding: data_planercnn/149_segmentation_0_final.png (deflated 1%)\n",
            "  adding: data_planercnn/150_segmentation_0_final.png (deflated 0%)\n",
            "  adding: data_planercnn/151_segmentation_0_final.png (deflated 3%)\n",
            "  adding: data_planercnn/152_segmentation_0_final.png (deflated 1%)\n",
            "  adding: data_planercnn/153_segmentation_0_final.png (deflated 4%)\n",
            "  adding: data_planercnn/154_segmentation_0_final.png (deflated 1%)\n",
            "  adding: data_planercnn/155_segmentation_0_final.png (deflated 1%)\n",
            "  adding: data_planercnn/156_segmentation_0_final.png (deflated 2%)\n",
            "  adding: data_planercnn/157_segmentation_0_final.png (deflated 2%)\n",
            "  adding: data_planercnn/158_segmentation_0_final.png (deflated 2%)\n",
            "  adding: data_planercnn/159_segmentation_0_final.png (deflated 3%)\n",
            "  adding: data_planercnn/160_segmentation_0_final.png (deflated 1%)\n",
            "  adding: data_planercnn/161_segmentation_0_final.png (deflated 1%)\n",
            "  adding: data_planercnn/162_segmentation_0_final.png (deflated 2%)\n",
            "  adding: data_planercnn/163_segmentation_0_final.png (deflated 1%)\n",
            "  adding: data_planercnn/164_segmentation_0_final.png (deflated 1%)\n",
            "  adding: data_planercnn/165_segmentation_0_final.png (deflated 3%)\n",
            "  adding: data_planercnn/166_segmentation_0_final.png (deflated 4%)\n",
            "  adding: data_planercnn/167_segmentation_0_final.png (deflated 1%)\n",
            "  adding: data_planercnn/168_segmentation_0_final.png (deflated 2%)\n",
            "  adding: data_planercnn/169_segmentation_0_final.png (deflated 1%)\n",
            "  adding: data_planercnn/170_segmentation_0_final.png (deflated 2%)\n",
            "  adding: data_planercnn/171_segmentation_0_final.png (deflated 2%)\n",
            "  adding: data_planercnn/172_segmentation_0_final.png (deflated 1%)\n",
            "  adding: data_planercnn/173_segmentation_0_final.png (deflated 3%)\n",
            "  adding: data_planercnn/174_segmentation_0_final.png (deflated 2%)\n",
            "  adding: data_planercnn/175_segmentation_0_final.png (deflated 2%)\n",
            "  adding: data_planercnn/176_segmentation_0_final.png (deflated 2%)\n",
            "  adding: data_planercnn/177_segmentation_0_final.png (deflated 2%)\n",
            "  adding: data_planercnn/178_segmentation_0_final.png (deflated 2%)\n",
            "  adding: data_planercnn/179_segmentation_0_final.png (deflated 0%)\n",
            "  adding: data_planercnn/180_segmentation_0_final.png (deflated 2%)\n",
            "  adding: data_planercnn/181_segmentation_0_final.png (deflated 2%)\n",
            "  adding: data_planercnn/182_segmentation_0_final.png (deflated 1%)\n",
            "  adding: data_planercnn/183_segmentation_0_final.png (deflated 2%)\n",
            "  adding: data_planercnn/184_segmentation_0_final.png (deflated 1%)\n",
            "  adding: data_planercnn/185_segmentation_0_final.png (deflated 1%)\n",
            "  adding: data_planercnn/186_segmentation_0_final.png (deflated 1%)\n",
            "  adding: data_planercnn/187_segmentation_0_final.png (deflated 2%)\n",
            "  adding: data_planercnn/188_segmentation_0_final.png (deflated 1%)\n",
            "  adding: data_planercnn/189_segmentation_0_final.png (deflated 2%)\n",
            "  adding: data_planercnn/190_segmentation_0_final.png (deflated 1%)\n",
            "  adding: data_planercnn/191_segmentation_0_final.png (deflated 2%)\n",
            "  adding: data_planercnn/192_segmentation_0_final.png (deflated 3%)\n",
            "  adding: data_planercnn/193_segmentation_0_final.png (deflated 2%)\n",
            "  adding: data_planercnn/194_segmentation_0_final.png (deflated 3%)\n",
            "  adding: data_planercnn/195_segmentation_0_final.png (deflated 1%)\n",
            "  adding: data_planercnn/196_segmentation_0_final.png (deflated 0%)\n",
            "  adding: data_planercnn/197_segmentation_0_final.png (deflated 2%)\n",
            "  adding: data_planercnn/198_segmentation_0_final.png (deflated 2%)\n",
            "  adding: data_planercnn/199_segmentation_0_final.png (deflated 4%)\n",
            "  adding: data_planercnn/200_segmentation_0_final.png (deflated 1%)\n",
            "  adding: data_planercnn/201_segmentation_0_final.png (deflated 4%)\n",
            "  adding: data_planercnn/202_segmentation_0_final.png (deflated 2%)\n",
            "  adding: data_planercnn/203_segmentation_0_final.png (deflated 1%)\n",
            "  adding: data_planercnn/204_segmentation_0_final.png (deflated 1%)\n",
            "  adding: data_planercnn/205_segmentation_0_final.png (deflated 5%)\n",
            "  adding: data_planercnn/206_segmentation_0_final.png (deflated 2%)\n",
            "  adding: data_planercnn/207_segmentation_0_final.png (deflated 1%)\n",
            "  adding: data_planercnn/208_segmentation_0_final.png (deflated 1%)\n",
            "  adding: data_planercnn/209_segmentation_0_final.png (deflated 2%)\n",
            "  adding: data_planercnn/210_segmentation_0_final.png (deflated 3%)\n",
            "  adding: data_planercnn/211_segmentation_0_final.png (deflated 2%)\n",
            "  adding: data_planercnn/212_segmentation_0_final.png (deflated 1%)\n",
            "  adding: data_planercnn/213_segmentation_0_final.png (deflated 3%)\n",
            "  adding: data_planercnn/214_segmentation_0_final.png (deflated 3%)\n",
            "  adding: data_planercnn/215_segmentation_0_final.png (deflated 3%)\n",
            "  adding: data_planercnn/216_segmentation_0_final.png (deflated 7%)\n",
            "  adding: data_planercnn/217_segmentation_0_final.png (deflated 4%)\n",
            "  adding: data_planercnn/218_segmentation_0_final.png (deflated 4%)\n",
            "  adding: data_planercnn/219_segmentation_0_final.png (deflated 5%)\n",
            "  adding: data_planercnn/220_segmentation_0_final.png (deflated 5%)\n",
            "  adding: data_planercnn/221_segmentation_0_final.png (deflated 3%)\n",
            "  adding: data_planercnn/222_segmentation_0_final.png (deflated 1%)\n",
            "  adding: data_planercnn/223_segmentation_0_final.png (deflated 4%)\n",
            "  adding: data_planercnn/224_segmentation_0_final.png (deflated 2%)\n",
            "  adding: data_planercnn/225_segmentation_0_final.png (deflated 3%)\n",
            "  adding: data_planercnn/226_segmentation_0_final.png (deflated 3%)\n",
            "  adding: data_planercnn/227_segmentation_0_final.png (deflated 1%)\n",
            "  adding: data_planercnn/228_segmentation_0_final.png (deflated 4%)\n",
            "  adding: data_planercnn/229_segmentation_0_final.png (deflated 1%)\n",
            "  adding: data_planercnn/230_segmentation_0_final.png (deflated 5%)\n",
            "  adding: data_planercnn/231_segmentation_0_final.png (deflated 3%)\n",
            "  adding: data_planercnn/232_segmentation_0_final.png (deflated 1%)\n",
            "  adding: data_planercnn/233_segmentation_0_final.png (deflated 3%)\n",
            "  adding: data_planercnn/234_segmentation_0_final.png (deflated 1%)\n",
            "  adding: data_planercnn/235_segmentation_0_final.png (deflated 1%)\n",
            "  adding: data_planercnn/236_segmentation_0_final.png (deflated 5%)\n",
            "  adding: data_planercnn/237_segmentation_0_final.png (deflated 3%)\n",
            "  adding: data_planercnn/238_segmentation_0_final.png (deflated 5%)\n",
            "  adding: data_planercnn/239_segmentation_0_final.png (deflated 3%)\n",
            "  adding: data_planercnn/240_segmentation_0_final.png (deflated 1%)\n",
            "  adding: data_planercnn/241_segmentation_0_final.png (deflated 2%)\n",
            "  adding: data_planercnn/242_segmentation_0_final.png (deflated 1%)\n",
            "  adding: data_planercnn/243_segmentation_0_final.png (deflated 2%)\n",
            "  adding: data_planercnn/244_segmentation_0_final.png (deflated 1%)\n",
            "  adding: data_planercnn/245_segmentation_0_final.png (deflated 1%)\n",
            "  adding: data_planercnn/246_segmentation_0_final.png (deflated 1%)\n",
            "  adding: data_planercnn/247_segmentation_0_final.png (deflated 1%)\n",
            "  adding: data_planercnn/248_segmentation_0_final.png (deflated 1%)\n",
            "  adding: data_planercnn/249_segmentation_0_final.png (deflated 2%)\n",
            "  adding: data_planercnn/250_segmentation_0_final.png (deflated 2%)\n",
            "  adding: data_planercnn/251_segmentation_0_final.png (deflated 3%)\n",
            "  adding: data_planercnn/252_segmentation_0_final.png (deflated 3%)\n",
            "  adding: data_planercnn/253_segmentation_0_final.png (deflated 1%)\n",
            "  adding: data_planercnn/254_segmentation_0_final.png (deflated 2%)\n",
            "  adding: data_planercnn/255_segmentation_0_final.png (deflated 0%)\n",
            "  adding: data_planercnn/256_segmentation_0_final.png (deflated 3%)\n",
            "  adding: data_planercnn/257_segmentation_0_final.png (deflated 2%)\n",
            "  adding: data_planercnn/258_segmentation_0_final.png (deflated 2%)\n",
            "  adding: data_planercnn/259_segmentation_0_final.png (deflated 2%)\n",
            "  adding: data_planercnn/260_segmentation_0_final.png (deflated 1%)\n",
            "  adding: data_planercnn/261_segmentation_0_final.png (deflated 2%)\n",
            "  adding: data_planercnn/262_segmentation_0_final.png (deflated 2%)\n",
            "  adding: data_planercnn/263_segmentation_0_final.png (deflated 2%)\n",
            "  adding: data_planercnn/264_segmentation_0_final.png (deflated 1%)\n",
            "  adding: data_planercnn/265_segmentation_0_final.png (deflated 1%)\n",
            "  adding: data_planercnn/266_segmentation_0_final.png (deflated 2%)\n",
            "  adding: data_planercnn/267_segmentation_0_final.png (deflated 1%)\n",
            "  adding: data_planercnn/268_segmentation_0_final.png (deflated 0%)\n",
            "  adding: data_planercnn/269_segmentation_0_final.png (deflated 0%)\n",
            "  adding: data_planercnn/270_segmentation_0_final.png (deflated 1%)\n",
            "  adding: data_planercnn/271_segmentation_0_final.png (deflated 3%)\n",
            "  adding: data_planercnn/272_segmentation_0_final.png (deflated 2%)\n",
            "  adding: data_planercnn/273_segmentation_0_final.png (deflated 1%)\n",
            "  adding: data_planercnn/274_segmentation_0_final.png (deflated 5%)\n",
            "  adding: data_planercnn/275_segmentation_0_final.png (deflated 9%)\n",
            "  adding: data_planercnn/276_segmentation_0_final.png (deflated 1%)\n",
            "  adding: data_planercnn/277_segmentation_0_final.png (deflated 2%)\n",
            "  adding: data_planercnn/278_segmentation_0_final.png (deflated 4%)\n",
            "  adding: data_planercnn/279_segmentation_0_final.png (deflated 4%)\n",
            "  adding: data_planercnn/280_segmentation_0_final.png (deflated 5%)\n",
            "  adding: data_planercnn/281_segmentation_0_final.png (deflated 1%)\n",
            "  adding: data_planercnn/282_segmentation_0_final.png (deflated 3%)\n",
            "  adding: data_planercnn/283_segmentation_0_final.png (deflated 1%)\n",
            "  adding: data_planercnn/284_segmentation_0_final.png (deflated 5%)\n",
            "  adding: data_planercnn/285_segmentation_0_final.png (deflated 1%)\n",
            "  adding: data_planercnn/286_segmentation_0_final.png (deflated 4%)\n",
            "  adding: data_planercnn/287_segmentation_0_final.png (deflated 2%)\n",
            "  adding: data_planercnn/288_segmentation_0_final.png (deflated 3%)\n",
            "  adding: data_planercnn/289_segmentation_0_final.png (deflated 2%)\n",
            "  adding: data_planercnn/290_segmentation_0_final.png (deflated 1%)\n",
            "  adding: data_planercnn/291_segmentation_0_final.png (deflated 3%)\n",
            "  adding: data_planercnn/292_segmentation_0_final.png (deflated 2%)\n",
            "  adding: data_planercnn/293_segmentation_0_final.png (deflated 1%)\n",
            "  adding: data_planercnn/294_segmentation_0_final.png (deflated 3%)\n",
            "  adding: data_planercnn/295_segmentation_0_final.png (deflated 3%)\n",
            "  adding: data_planercnn/296_segmentation_0_final.png (deflated 2%)\n",
            "  adding: data_planercnn/297_segmentation_0_final.png (deflated 2%)\n",
            "  adding: data_planercnn/298_segmentation_0_final.png (deflated 2%)\n",
            "  adding: data_planercnn/299_segmentation_0_final.png (deflated 2%)\n",
            "  adding: data_planercnn/300_segmentation_0_final.png (deflated 2%)\n",
            "  adding: data_planercnn/301_segmentation_0_final.png (deflated 2%)\n",
            "  adding: data_planercnn/302_segmentation_0_final.png (deflated 2%)\n",
            "  adding: data_planercnn/303_segmentation_0_final.png (deflated 2%)\n",
            "  adding: data_planercnn/304_segmentation_0_final.png (deflated 4%)\n",
            "  adding: data_planercnn/305_segmentation_0_final.png (deflated 3%)\n",
            "  adding: data_planercnn/306_segmentation_0_final.png (deflated 0%)\n",
            "  adding: data_planercnn/307_segmentation_0_final.png (deflated 3%)\n",
            "  adding: data_planercnn/308_segmentation_0_final.png (deflated 1%)\n",
            "  adding: data_planercnn/309_segmentation_0_final.png (deflated 2%)\n",
            "  adding: data_planercnn/310_segmentation_0_final.png (deflated 1%)\n",
            "  adding: data_planercnn/311_segmentation_0_final.png (deflated 1%)\n",
            "  adding: data_planercnn/312_segmentation_0_final.png (deflated 1%)\n",
            "  adding: data_planercnn/313_segmentation_0_final.png (deflated 0%)\n",
            "  adding: data_planercnn/314_segmentation_0_final.png (deflated 5%)\n",
            "  adding: data_planercnn/315_segmentation_0_final.png (deflated 3%)\n",
            "  adding: data_planercnn/316_segmentation_0_final.png (deflated 4%)\n",
            "  adding: data_planercnn/317_segmentation_0_final.png (deflated 2%)\n",
            "  adding: data_planercnn/318_segmentation_0_final.png (deflated 1%)\n",
            "  adding: data_planercnn/319_segmentation_0_final.png (deflated 3%)\n",
            "  adding: data_planercnn/320_segmentation_0_final.png (deflated 2%)\n",
            "  adding: data_planercnn/321_segmentation_0_final.png (deflated 1%)\n",
            "  adding: data_planercnn/322_segmentation_0_final.png (deflated 1%)\n",
            "  adding: data_planercnn/323_segmentation_0_final.png (deflated 2%)\n",
            "  adding: data_planercnn/324_segmentation_0_final.png (deflated 1%)\n",
            "  adding: data_planercnn/325_segmentation_0_final.png (deflated 1%)\n",
            "  adding: data_planercnn/326_segmentation_0_final.png (deflated 2%)\n",
            "  adding: data_planercnn/327_segmentation_0_final.png (deflated 2%)\n",
            "  adding: data_planercnn/328_segmentation_0_final.png (deflated 3%)\n",
            "  adding: data_planercnn/329_segmentation_0_final.png (deflated 2%)\n",
            "  adding: data_planercnn/330_segmentation_0_final.png (deflated 3%)\n",
            "  adding: data_planercnn/331_segmentation_0_final.png (deflated 5%)\n",
            "  adding: data_planercnn/332_segmentation_0_final.png (deflated 2%)\n",
            "  adding: data_planercnn/333_segmentation_0_final.png (deflated 1%)\n",
            "  adding: data_planercnn/334_segmentation_0_final.png (deflated 1%)\n",
            "  adding: data_planercnn/335_segmentation_0_final.png (deflated 6%)\n",
            "  adding: data_planercnn/336_segmentation_0_final.png (deflated 1%)\n",
            "  adding: data_planercnn/337_segmentation_0_final.png (deflated 2%)\n",
            "  adding: data_planercnn/338_segmentation_0_final.png (deflated 1%)\n",
            "  adding: data_planercnn/339_segmentation_0_final.png (deflated 2%)\n",
            "  adding: data_planercnn/340_segmentation_0_final.png (deflated 2%)\n",
            "  adding: data_planercnn/341_segmentation_0_final.png (deflated 1%)\n",
            "  adding: data_planercnn/342_segmentation_0_final.png (deflated 2%)\n",
            "  adding: data_planercnn/343_segmentation_0_final.png (deflated 6%)\n",
            "  adding: data_planercnn/344_segmentation_0_final.png (deflated 3%)\n",
            "  adding: data_planercnn/345_segmentation_0_final.png (deflated 3%)\n",
            "  adding: data_planercnn/346_segmentation_0_final.png (deflated 2%)\n",
            "  adding: data_planercnn/347_segmentation_0_final.png (deflated 2%)\n",
            "  adding: data_planercnn/348_segmentation_0_final.png (deflated 7%)\n",
            "  adding: data_planercnn/349_segmentation_0_final.png (deflated 2%)\n",
            "  adding: data_planercnn/350_segmentation_0_final.png (deflated 4%)\n",
            "  adding: data_planercnn/351_segmentation_0_final.png (deflated 4%)\n",
            "  adding: data_planercnn/352_segmentation_0_final.png (deflated 2%)\n",
            "  adding: data_planercnn/353_segmentation_0_final.png (deflated 3%)\n",
            "  adding: data_planercnn/354_segmentation_0_final.png (deflated 4%)\n",
            "  adding: data_planercnn/355_segmentation_0_final.png (deflated 1%)\n",
            "  adding: data_planercnn/356_segmentation_0_final.png (deflated 1%)\n",
            "  adding: data_planercnn/357_segmentation_0_final.png (deflated 5%)\n",
            "  adding: data_planercnn/358_segmentation_0_final.png (deflated 2%)\n",
            "  adding: data_planercnn/359_segmentation_0_final.png (deflated 2%)\n",
            "  adding: data_planercnn/360_segmentation_0_final.png (deflated 2%)\n",
            "  adding: data_planercnn/361_segmentation_0_final.png (deflated 2%)\n",
            "  adding: data_planercnn/362_segmentation_0_final.png (deflated 2%)\n",
            "  adding: data_planercnn/363_segmentation_0_final.png (deflated 2%)\n",
            "  adding: data_planercnn/364_segmentation_0_final.png (deflated 2%)\n",
            "  adding: data_planercnn/365_segmentation_0_final.png (deflated 1%)\n",
            "  adding: data_planercnn/366_segmentation_0_final.png (deflated 1%)\n",
            "  adding: data_planercnn/367_segmentation_0_final.png (deflated 1%)\n",
            "  adding: data_planercnn/368_segmentation_0_final.png (deflated 2%)\n",
            "  adding: data_planercnn/369_segmentation_0_final.png (deflated 1%)\n",
            "  adding: data_planercnn/370_segmentation_0_final.png (deflated 4%)\n",
            "  adding: data_planercnn/371_segmentation_0_final.png (deflated 3%)\n",
            "  adding: data_planercnn/372_segmentation_0_final.png (deflated 3%)\n",
            "  adding: data_planercnn/373_segmentation_0_final.png (deflated 4%)\n",
            "  adding: data_planercnn/374_segmentation_0_final.png (deflated 2%)\n",
            "  adding: data_planercnn/375_segmentation_0_final.png (deflated 4%)\n",
            "  adding: data_planercnn/376_segmentation_0_final.png (deflated 3%)\n",
            "  adding: data_planercnn/377_segmentation_0_final.png (deflated 1%)\n",
            "  adding: data_planercnn/378_segmentation_0_final.png (deflated 4%)\n",
            "  adding: data_planercnn/379_segmentation_0_final.png (deflated 2%)\n",
            "  adding: data_planercnn/380_segmentation_0_final.png (deflated 1%)\n",
            "  adding: data_planercnn/381_segmentation_0_final.png (deflated 4%)\n",
            "  adding: data_planercnn/382_segmentation_0_final.png (deflated 1%)\n",
            "  adding: data_planercnn/383_segmentation_0_final.png (deflated 1%)\n",
            "  adding: data_planercnn/384_segmentation_0_final.png (deflated 1%)\n",
            "  adding: data_planercnn/385_segmentation_0_final.png (deflated 3%)\n",
            "  adding: data_planercnn/386_segmentation_0_final.png (deflated 1%)\n",
            "  adding: data_planercnn/387_segmentation_0_final.png (deflated 1%)\n",
            "  adding: data_planercnn/388_segmentation_0_final.png (deflated 3%)\n",
            "  adding: data_planercnn/389_segmentation_0_final.png (deflated 3%)\n",
            "  adding: data_planercnn/390_segmentation_0_final.png (deflated 1%)\n",
            "  adding: data_planercnn/391_segmentation_0_final.png (deflated 4%)\n",
            "  adding: data_planercnn/392_segmentation_0_final.png (deflated 2%)\n",
            "  adding: data_planercnn/393_segmentation_0_final.png (deflated 2%)\n",
            "  adding: data_planercnn/394_segmentation_0_final.png (deflated 2%)\n",
            "  adding: data_planercnn/395_segmentation_0_final.png (deflated 1%)\n",
            "  adding: data_planercnn/396_segmentation_0_final.png (deflated 1%)\n",
            "  adding: data_planercnn/397_segmentation_0_final.png (deflated 4%)\n",
            "  adding: data_planercnn/398_segmentation_0_final.png (deflated 2%)\n",
            "  adding: data_planercnn/399_segmentation_0_final.png (deflated 2%)\n",
            "  adding: data_planercnn/400_segmentation_0_final.png (deflated 3%)\n",
            "  adding: data_planercnn/401_segmentation_0_final.png (deflated 1%)\n",
            "  adding: data_planercnn/402_segmentation_0_final.png (deflated 1%)\n",
            "  adding: data_planercnn/403_segmentation_0_final.png (deflated 1%)\n",
            "  adding: data_planercnn/404_segmentation_0_final.png (deflated 2%)\n",
            "  adding: data_planercnn/405_segmentation_0_final.png (deflated 2%)\n",
            "  adding: data_planercnn/406_segmentation_0_final.png (deflated 2%)\n",
            "  adding: data_planercnn/407_segmentation_0_final.png (deflated 1%)\n",
            "  adding: data_planercnn/408_segmentation_0_final.png (deflated 1%)\n",
            "  adding: data_planercnn/409_segmentation_0_final.png (deflated 4%)\n",
            "  adding: data_planercnn/410_segmentation_0_final.png (deflated 2%)\n",
            "  adding: data_planercnn/411_segmentation_0_final.png (deflated 3%)\n",
            "  adding: data_planercnn/412_segmentation_0_final.png (deflated 1%)\n",
            "  adding: data_planercnn/413_segmentation_0_final.png (deflated 5%)\n",
            "  adding: data_planercnn/414_segmentation_0_final.png (deflated 2%)\n",
            "  adding: data_planercnn/415_segmentation_0_final.png (deflated 1%)\n",
            "  adding: data_planercnn/416_segmentation_0_final.png (deflated 2%)\n",
            "  adding: data_planercnn/417_segmentation_0_final.png (deflated 3%)\n",
            "  adding: data_planercnn/418_segmentation_0_final.png (deflated 2%)\n",
            "  adding: data_planercnn/419_segmentation_0_final.png (deflated 4%)\n",
            "  adding: data_planercnn/420_segmentation_0_final.png (deflated 2%)\n",
            "  adding: data_planercnn/421_segmentation_0_final.png (deflated 2%)\n",
            "  adding: data_planercnn/422_segmentation_0_final.png (deflated 1%)\n",
            "  adding: data_planercnn/423_segmentation_0_final.png (deflated 4%)\n",
            "  adding: data_planercnn/424_segmentation_0_final.png (deflated 2%)\n",
            "  adding: data_planercnn/425_segmentation_0_final.png (deflated 3%)\n",
            "  adding: data_planercnn/426_segmentation_0_final.png (deflated 2%)\n",
            "  adding: data_planercnn/427_segmentation_0_final.png (deflated 4%)\n",
            "  adding: data_planercnn/428_segmentation_0_final.png (deflated 4%)\n",
            "  adding: data_planercnn/429_segmentation_0_final.png (deflated 1%)\n",
            "  adding: data_planercnn/430_segmentation_0_final.png (deflated 2%)\n",
            "  adding: data_planercnn/431_segmentation_0_final.png (deflated 4%)\n",
            "  adding: data_planercnn/432_segmentation_0_final.png (deflated 4%)\n",
            "  adding: data_planercnn/433_segmentation_0_final.png (deflated 1%)\n",
            "  adding: data_planercnn/434_segmentation_0_final.png (deflated 1%)\n",
            "  adding: data_planercnn/435_segmentation_0_final.png (deflated 4%)\n",
            "  adding: data_planercnn/436_segmentation_0_final.png (deflated 4%)\n",
            "  adding: data_planercnn/437_segmentation_0_final.png (deflated 1%)\n",
            "  adding: data_planercnn/438_segmentation_0_final.png (deflated 3%)\n",
            "  adding: data_planercnn/439_segmentation_0_final.png (deflated 1%)\n",
            "  adding: data_planercnn/440_segmentation_0_final.png (deflated 2%)\n",
            "  adding: data_planercnn/441_segmentation_0_final.png (deflated 4%)\n",
            "  adding: data_planercnn/442_segmentation_0_final.png (deflated 3%)\n",
            "  adding: data_planercnn/443_segmentation_0_final.png (deflated 2%)\n",
            "  adding: data_planercnn/444_segmentation_0_final.png (deflated 4%)\n",
            "  adding: data_planercnn/445_segmentation_0_final.png (deflated 1%)\n",
            "  adding: data_planercnn/446_segmentation_0_final.png (deflated 1%)\n",
            "  adding: data_planercnn/447_segmentation_0_final.png (deflated 1%)\n",
            "  adding: data_planercnn/448_segmentation_0_final.png (deflated 1%)\n",
            "  adding: data_planercnn/449_segmentation_0_final.png (deflated 5%)\n",
            "  adding: data_planercnn/450_segmentation_0_final.png (deflated 3%)\n",
            "  adding: data_planercnn/451_segmentation_0_final.png (deflated 5%)\n",
            "  adding: data_planercnn/452_segmentation_0_final.png (deflated 1%)\n",
            "  adding: data_planercnn/453_segmentation_0_final.png (deflated 1%)\n",
            "  adding: data_planercnn/454_segmentation_0_final.png (deflated 1%)\n",
            "  adding: data_planercnn/455_segmentation_0_final.png (deflated 1%)\n",
            "  adding: data_planercnn/456_segmentation_0_final.png (deflated 1%)\n",
            "  adding: data_planercnn/457_segmentation_0_final.png (deflated 2%)\n",
            "  adding: data_planercnn/458_segmentation_0_final.png (deflated 4%)\n",
            "  adding: data_planercnn/459_segmentation_0_final.png (deflated 2%)\n",
            "  adding: data_planercnn/460_segmentation_0_final.png (deflated 1%)\n",
            "  adding: data_planercnn/461_segmentation_0_final.png (deflated 2%)\n",
            "  adding: data_planercnn/462_segmentation_0_final.png (deflated 3%)\n",
            "  adding: data_planercnn/463_segmentation_0_final.png (deflated 1%)\n",
            "  adding: data_planercnn/464_segmentation_0_final.png (deflated 0%)\n",
            "  adding: data_planercnn/465_segmentation_0_final.png (deflated 3%)\n",
            "  adding: data_planercnn/466_segmentation_0_final.png (deflated 1%)\n",
            "  adding: data_planercnn/467_segmentation_0_final.png (deflated 2%)\n",
            "  adding: data_planercnn/468_segmentation_0_final.png (deflated 3%)\n",
            "  adding: data_planercnn/469_segmentation_0_final.png (deflated 2%)\n",
            "  adding: data_planercnn/470_segmentation_0_final.png (deflated 3%)\n",
            "  adding: data_planercnn/471_segmentation_0_final.png (deflated 3%)\n",
            "  adding: data_planercnn/472_segmentation_0_final.png (deflated 1%)\n",
            "  adding: data_planercnn/473_segmentation_0_final.png (deflated 1%)\n",
            "  adding: data_planercnn/474_segmentation_0_final.png (deflated 1%)\n",
            "  adding: data_planercnn/475_segmentation_0_final.png (deflated 1%)\n",
            "  adding: data_planercnn/476_segmentation_0_final.png (deflated 2%)\n",
            "  adding: data_planercnn/477_segmentation_0_final.png (deflated 0%)\n",
            "  adding: data_planercnn/478_segmentation_0_final.png (deflated 1%)\n",
            "  adding: data_planercnn/479_segmentation_0_final.png (deflated 4%)\n",
            "  adding: data_planercnn/480_segmentation_0_final.png (deflated 2%)\n",
            "  adding: data_planercnn/481_segmentation_0_final.png (deflated 3%)\n",
            "  adding: data_planercnn/482_segmentation_0_final.png (deflated 2%)\n",
            "  adding: data_planercnn/483_segmentation_0_final.png (deflated 4%)\n",
            "  adding: data_planercnn/484_segmentation_0_final.png (deflated 1%)\n",
            "  adding: data_planercnn/485_segmentation_0_final.png (deflated 0%)\n",
            "  adding: data_planercnn/486_segmentation_0_final.png (deflated 1%)\n",
            "  adding: data_planercnn/487_segmentation_0_final.png (deflated 0%)\n",
            "  adding: data_planercnn/488_segmentation_0_final.png (deflated 7%)\n",
            "  adding: data_planercnn/489_segmentation_0_final.png (deflated 1%)\n",
            "  adding: data_planercnn/490_segmentation_0_final.png (deflated 1%)\n",
            "  adding: data_planercnn/491_segmentation_0_final.png (deflated 1%)\n",
            "  adding: data_planercnn/492_segmentation_0_final.png (deflated 6%)\n",
            "  adding: data_planercnn/493_segmentation_0_final.png (deflated 2%)\n",
            "  adding: data_planercnn/494_segmentation_0_final.png (deflated 5%)\n",
            "  adding: data_planercnn/495_segmentation_0_final.png (deflated 1%)\n",
            "  adding: data_planercnn/496_segmentation_0_final.png (deflated 1%)\n",
            "  adding: data_planercnn/497_segmentation_0_final.png (deflated 3%)\n",
            "  adding: data_planercnn/498_segmentation_0_final.png (deflated 1%)\n",
            "  adding: data_planercnn/499_segmentation_0_final.png (deflated 2%)\n"
          ],
          "name": "stdout"
        }
      ]
    },
    {
      "cell_type": "code",
      "metadata": {
        "colab": {
          "base_uri": "https://localhost:8080/",
          "height": 35
        },
        "id": "ZIhnTh99HFlA",
        "outputId": "49574c52-6013-49fc-8f9c-397148296e6d"
      },
      "source": [
        "pwd"
      ],
      "execution_count": 90,
      "outputs": [
        {
          "output_type": "execute_result",
          "data": {
            "application/vnd.google.colaboratory.intrinsic+json": {
              "type": "string"
            },
            "text/plain": [
              "'/content/drive/My Drive/EVA5/Assignment15A/planercnn'"
            ]
          },
          "metadata": {
            "tags": []
          },
          "execution_count": 90
        }
      ]
    },
    {
      "cell_type": "code",
      "metadata": {
        "colab": {
          "base_uri": "https://localhost:8080/"
        },
        "id": "xe-3N2YKHFnp",
        "outputId": "be56cbb5-e637-4d21-e523-bd0b81213002"
      },
      "source": [
        "from zipfile import ZipFile\n",
        "# Create a ZipFile Object and load sample.zip in it\n",
        "with ZipFile('/content/drive/MyDrive/EVA5/Assignment15A/planercnn/data_planer.zip', 'r') as zipObj:\n",
        "   # Get list of files names in zip\n",
        "   listOfiles = zipObj.namelist()\n",
        "   # Iterate over the list of file names in given list & print them\n",
        "   print(len(listOfiles))"
      ],
      "execution_count": 96,
      "outputs": [
        {
          "output_type": "stream",
          "text": [
            "501\n"
          ],
          "name": "stdout"
        }
      ]
    },
    {
      "cell_type": "code",
      "metadata": {
        "id": "gLA9O-f3HEbI"
      },
      "source": [
        ""
      ],
      "execution_count": null,
      "outputs": []
    },
    {
      "cell_type": "code",
      "metadata": {
        "id": "l0Ffu_mIHD0h"
      },
      "source": [
        ""
      ],
      "execution_count": null,
      "outputs": []
    },
    {
      "cell_type": "code",
      "metadata": {
        "id": "dsK09ZoqBeqY"
      },
      "source": [
        "def ignore_pyc_files(dirname, filenames):\n",
        "    word = \"segmentation_0_final\"\n",
        "    files = [name for name in filenames if word not in name]\n",
        "    return files"
      ],
      "execution_count": 70,
      "outputs": []
    },
    {
      "cell_type": "code",
      "metadata": {
        "colab": {
          "base_uri": "https://localhost:8080/"
        },
        "id": "zCMA3doJEP64",
        "outputId": "f2bf8742-47ab-4dfd-e2c7-adc57005e215"
      },
      "source": [
        ""
      ],
      "execution_count": 53,
      "outputs": [
        {
          "output_type": "execute_result",
          "data": {
            "text/plain": [
              "False"
            ]
          },
          "metadata": {
            "tags": []
          },
          "execution_count": 53
        }
      ]
    },
    {
      "cell_type": "code",
      "metadata": {
        "id": "Nv8rWtShEhbb"
      },
      "source": [
        ""
      ],
      "execution_count": 70,
      "outputs": []
    },
    {
      "cell_type": "code",
      "metadata": {
        "id": "kXMVuG2zGHUs"
      },
      "source": [
        ""
      ],
      "execution_count": null,
      "outputs": []
    }
  ]
}